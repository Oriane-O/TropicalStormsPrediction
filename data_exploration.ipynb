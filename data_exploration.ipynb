{
 "cells": [
  {
   "cell_type": "markdown",
   "metadata": {},
   "source": [
    "<h2>1. Contexte<h2/>"
   ]
  },
  {
   "cell_type": "markdown",
   "metadata": {},
   "source": [
    "<h2>This notebook is dedicated to understanding the subject and exploring the data.<h2/>"
   ]
  },
  {
   "cell_type": "markdown",
   "metadata": {},
   "source": [
    "<h3>\"The dataset includes 174 metrics and 297,099 rows of data of tropical storms in the United States\n",
    "collected from 1980 onwards. The data is raw, imperfect, and has not been cleaned or preprocessed.\"<h3/>"
   ]
  },
  {
   "cell_type": "markdown",
   "metadata": {},
   "source": [
    "<h3>\"Information about the dataset attributes can be found in the IBTRACS_variable_documentation file. Using the provided dataset, you are asked to train a model to predict the severity of a tropical cyclone based on geographical input data.\"<h3/>"
   ]
  },
  {
   "attachments": {
    "image.png": {
     "image/png": "[encoded data removed]"
    }
   },
   "cell_type": "markdown",
   "metadata": {},
   "source": [
    "![image.png](attachment:image.png)"
   ]
  },
  {
   "cell_type": "markdown",
   "metadata": {},
   "source": [
    "We want to predict the 145th column of the dataset "
   ]
  },
  {
   "cell_type": "markdown",
   "metadata": {},
   "source": [
    "<h2>2. Data Exploration<h2/>"
   ]
  },
  {
   "cell_type": "code",
   "execution_count": null,
   "metadata": {},
   "outputs": [],
   "source": [
    "#Import libraries \n",
    "\n",
    "import pandas as pd\n",
    "import numpy as np\n",
    "import matplotlib.pyplot as plt\n",
    "import sklearn"
   ]
  },
  {
   "cell_type": "code",
   "execution_count": 76,
   "metadata": {},
   "outputs": [
    {
     "name": "stderr",
     "output_type": "stream",
     "text": [
      "C:\\Users\\viala\\AppData\\Local\\Temp\\ipykernel_20436\\1658390913.py:3: DtypeWarning: Columns (1,2,8,9,14,19,20,172,173) have mixed types. Specify dtype option on import or set low_memory=False.\n",
      "  df = pd.read_csv(\"ibtracs.csv\")\n"
     ]
    },
    {
     "data": {
      "text/html": [
       "<div>\n",
       "<style scoped>\n",
       "    .dataframe tbody tr th:only-of-type {\n",
       "        vertical-align: middle;\n",
       "    }\n",
       "\n",
       "    .dataframe tbody tr th {\n",
       "        vertical-align: top;\n",
       "    }\n",
       "\n",
       "    .dataframe thead th {\n",
       "        text-align: right;\n",
       "    }\n",
       "</style>\n",
       "<table border=\"1\" class=\"dataframe\">\n",
       "  <thead>\n",
       "    <tr style=\"text-align: right;\">\n",
       "      <th></th>\n",
       "      <th>SID</th>\n",
       "      <th>SEASON</th>\n",
       "      <th>NUMBER</th>\n",
       "      <th>BASIN</th>\n",
       "      <th>SUBBASIN</th>\n",
       "      <th>NAME</th>\n",
       "      <th>ISO_TIME</th>\n",
       "      <th>NATURE</th>\n",
       "      <th>LAT</th>\n",
       "      <th>LON</th>\n",
       "      <th>...</th>\n",
       "      <th>BOM_GUST_PER</th>\n",
       "      <th>REUNION_GUST</th>\n",
       "      <th>REUNION_GUST_PER</th>\n",
       "      <th>USA_SEAHGT</th>\n",
       "      <th>USA_SEARAD_NE</th>\n",
       "      <th>USA_SEARAD_SE</th>\n",
       "      <th>USA_SEARAD_SW</th>\n",
       "      <th>USA_SEARAD_NW</th>\n",
       "      <th>STORM_SPEED</th>\n",
       "      <th>STORM_DIR</th>\n",
       "    </tr>\n",
       "  </thead>\n",
       "  <tbody>\n",
       "    <tr>\n",
       "      <th>0</th>\n",
       "      <td></td>\n",
       "      <td>Year</td>\n",
       "      <td></td>\n",
       "      <td></td>\n",
       "      <td></td>\n",
       "      <td></td>\n",
       "      <td></td>\n",
       "      <td></td>\n",
       "      <td>degrees_north</td>\n",
       "      <td>degrees_east</td>\n",
       "      <td>...</td>\n",
       "      <td>second</td>\n",
       "      <td>kts</td>\n",
       "      <td>second</td>\n",
       "      <td>ft</td>\n",
       "      <td>nmile</td>\n",
       "      <td>nmile</td>\n",
       "      <td>nmile</td>\n",
       "      <td>nmile</td>\n",
       "      <td>kts</td>\n",
       "      <td>degrees</td>\n",
       "    </tr>\n",
       "    <tr>\n",
       "      <th>1</th>\n",
       "      <td>1980001S13173</td>\n",
       "      <td>1980</td>\n",
       "      <td>1</td>\n",
       "      <td>SP</td>\n",
       "      <td>MM</td>\n",
       "      <td>PENI</td>\n",
       "      <td>1980-01-01 00:00:00</td>\n",
       "      <td>TS</td>\n",
       "      <td>-12.5</td>\n",
       "      <td>172.5</td>\n",
       "      <td>...</td>\n",
       "      <td></td>\n",
       "      <td></td>\n",
       "      <td></td>\n",
       "      <td></td>\n",
       "      <td></td>\n",
       "      <td></td>\n",
       "      <td></td>\n",
       "      <td></td>\n",
       "      <td>6</td>\n",
       "      <td>350</td>\n",
       "    </tr>\n",
       "    <tr>\n",
       "      <th>2</th>\n",
       "      <td>1980001S13173</td>\n",
       "      <td>1980</td>\n",
       "      <td>1</td>\n",
       "      <td>SP</td>\n",
       "      <td>MM</td>\n",
       "      <td>PENI</td>\n",
       "      <td>1980-01-01 03:00:00</td>\n",
       "      <td>TS</td>\n",
       "      <td>-12.2</td>\n",
       "      <td>172.4</td>\n",
       "      <td>...</td>\n",
       "      <td></td>\n",
       "      <td></td>\n",
       "      <td></td>\n",
       "      <td></td>\n",
       "      <td></td>\n",
       "      <td></td>\n",
       "      <td></td>\n",
       "      <td></td>\n",
       "      <td>6</td>\n",
       "      <td>350</td>\n",
       "    </tr>\n",
       "    <tr>\n",
       "      <th>3</th>\n",
       "      <td>1980001S13173</td>\n",
       "      <td>1980</td>\n",
       "      <td>1</td>\n",
       "      <td>SP</td>\n",
       "      <td>MM</td>\n",
       "      <td>PENI</td>\n",
       "      <td>1980-01-01 06:00:00</td>\n",
       "      <td>TS</td>\n",
       "      <td>-11.9</td>\n",
       "      <td>172.4</td>\n",
       "      <td>...</td>\n",
       "      <td></td>\n",
       "      <td></td>\n",
       "      <td></td>\n",
       "      <td></td>\n",
       "      <td></td>\n",
       "      <td></td>\n",
       "      <td></td>\n",
       "      <td></td>\n",
       "      <td>5</td>\n",
       "      <td>360</td>\n",
       "    </tr>\n",
       "    <tr>\n",
       "      <th>4</th>\n",
       "      <td>1980001S13173</td>\n",
       "      <td>1980</td>\n",
       "      <td>1</td>\n",
       "      <td>SP</td>\n",
       "      <td>MM</td>\n",
       "      <td>PENI</td>\n",
       "      <td>1980-01-01 09:00:00</td>\n",
       "      <td>TS</td>\n",
       "      <td>-11.7</td>\n",
       "      <td>172.4</td>\n",
       "      <td>...</td>\n",
       "      <td></td>\n",
       "      <td></td>\n",
       "      <td></td>\n",
       "      <td></td>\n",
       "      <td></td>\n",
       "      <td></td>\n",
       "      <td></td>\n",
       "      <td></td>\n",
       "      <td>4</td>\n",
       "      <td>10</td>\n",
       "    </tr>\n",
       "  </tbody>\n",
       "</table>\n",
       "<p>5 rows × 174 columns</p>\n",
       "</div>"
      ],
      "text/plain": [
       "             SID SEASON NUMBER BASIN SUBBASIN  NAME             ISO_TIME  \\\n",
       "0                  Year                                                    \n",
       "1  1980001S13173   1980      1    SP       MM  PENI  1980-01-01 00:00:00   \n",
       "2  1980001S13173   1980      1    SP       MM  PENI  1980-01-01 03:00:00   \n",
       "3  1980001S13173   1980      1    SP       MM  PENI  1980-01-01 06:00:00   \n",
       "4  1980001S13173   1980      1    SP       MM  PENI  1980-01-01 09:00:00   \n",
       "\n",
       "  NATURE            LAT           LON  ... BOM_GUST_PER REUNION_GUST  \\\n",
       "0         degrees_north  degrees_east  ...       second          kts   \n",
       "1     TS          -12.5         172.5  ...                             \n",
       "2     TS          -12.2         172.4  ...                             \n",
       "3     TS          -11.9         172.4  ...                             \n",
       "4     TS          -11.7         172.4  ...                             \n",
       "\n",
       "  REUNION_GUST_PER USA_SEAHGT USA_SEARAD_NE USA_SEARAD_SE USA_SEARAD_SW  \\\n",
       "0           second         ft         nmile         nmile         nmile   \n",
       "1                                                                         \n",
       "2                                                                         \n",
       "3                                                                         \n",
       "4                                                                         \n",
       "\n",
       "  USA_SEARAD_NW STORM_SPEED STORM_DIR  \n",
       "0         nmile         kts   degrees  \n",
       "1                         6       350  \n",
       "2                         6       350  \n",
       "3                         5       360  \n",
       "4                         4        10  \n",
       "\n",
       "[5 rows x 174 columns]"
      ]
     },
     "execution_count": 76,
     "metadata": {},
     "output_type": "execute_result"
    }
   ],
   "source": [
    "#Import and read the csv file. Display the 5 first rows\n",
    "\n",
    "df = pd.read_csv(\"ibtracs.csv\")\n",
    "df.head(5)"
   ]
  },
  {
   "cell_type": "code",
   "execution_count": null,
   "metadata": {},
   "outputs": [
    {
     "data": {
      "text/plain": [
       "SID                  0\n",
       "SEASON               0\n",
       "NUMBER               0\n",
       "BASIN            40518\n",
       "SUBBASIN         32646\n",
       "                 ...  \n",
       "USA_SEARAD_SE        0\n",
       "USA_SEARAD_SW        0\n",
       "USA_SEARAD_NW        0\n",
       "STORM_SPEED          0\n",
       "STORM_DIR            0\n",
       "Length: 174, dtype: int64"
      ]
     },
     "execution_count": 13,
     "metadata": {},
     "output_type": "execute_result"
    }
   ],
   "source": [
    "# On repère les colonnes qui vont nous poser problèmes, ici les colonnes avec de NaN\n",
    "\n",
    "df.isna().sum()"
   ]
  },
  {
   "cell_type": "code",
   "execution_count": 90,
   "metadata": {},
   "outputs": [
    {
     "name": "stdout",
     "output_type": "stream",
     "text": [
      "BASIN       40518\n",
      "SUBBASIN    32646\n",
      "dtype: int64 \n",
      "\n",
      "Cela représente environ: 13.64 % du df pour BASIN \n",
      "Et 10.99 % pour SUBBASIN\n"
     ]
    }
   ],
   "source": [
    "# On compte le nombre de NaN par colonne pour estimer le pourcentage du df que cela représenta\n",
    "\n",
    "missing_values = df.isna().sum()\n",
    "columns_with_missing = missing_values[missing_values > 0]\n",
    "print(columns_with_missing,\"\\n\\nCela représente environ:\",round(40518/297000*100,2),\"% du df pour BASIN\", \"\\nEt\", round(32646/297000*100,2),\"% pour SUBBASIN\")\n"
   ]
  },
  {
   "cell_type": "code",
   "execution_count": 40,
   "metadata": {},
   "outputs": [
    {
     "data": {
      "text/plain": [
       "BASIN\n",
       "WP    99760\n",
       "SI    62929\n",
       "EP    47854\n",
       "SP    31050\n",
       "NI    14868\n",
       "SA      119\n",
       "          1\n",
       "Name: count, dtype: int64"
      ]
     },
     "execution_count": 40,
     "metadata": {},
     "output_type": "execute_result"
    }
   ],
   "source": [
    "df.value_counts(\"BASIN\")"
   ]
  },
  {
   "cell_type": "code",
   "execution_count": 41,
   "metadata": {},
   "outputs": [
    {
     "data": {
      "text/plain": [
       "SUBBASIN\n",
       "MM    197661\n",
       "WA     24732\n",
       "EA     10730\n",
       "BB      9688\n",
       "CP      8589\n",
       "AS      5180\n",
       "CS      4193\n",
       "GM      3679\n",
       "           1\n",
       "Name: count, dtype: int64"
      ]
     },
     "execution_count": 41,
     "metadata": {},
     "output_type": "execute_result"
    }
   ],
   "source": [
    "df.value_counts(\"SUBBASIN\")"
   ]
  },
  {
   "cell_type": "markdown",
   "metadata": {},
   "source": [
    "<h4>Un premier problème se pose : les colonnes \"BASIN\" et \"SUBBASIN\" possèdent des données manquantes (BASIN 40518 & SUBBASIN 32646). De plus elles possèdent des valeurs dites MM (missing). Il faut déterminer leur pertinence dans ce dataset, pour savoir s'il faut les conserver ou non pour l'entrainement du modèle.<h4/>"
   ]
  },
  {
   "cell_type": "code",
   "execution_count": null,
   "metadata": {},
   "outputs": [],
   "source": [
    "#Mapping des colonnes pour les encoder numériquement\n",
    "\n",
    "basin_mapping = {val: idx for idx, val in enumerate(df['BASIN'].unique())}\n",
    "subbasin_mapping = {val: idx for idx, val in enumerate(df['SUBBASIN'].unique())}\n",
    "\n",
    "df['BASIN_encoded'] = df['BASIN'].map(basin_mapping)\n",
    "df['SUBBASIN_encoded'] = df['SUBBASIN'].map(subbasin_mapping)\n"
   ]
  },
  {
   "cell_type": "code",
   "execution_count": 45,
   "metadata": {},
   "outputs": [
    {
     "name": "stdout",
     "output_type": "stream",
     "text": [
      "       BASIN  BASIN_encoded\n",
      "0                         0\n",
      "1         SP              1\n",
      "42        SI              2\n",
      "1492      WP              3\n",
      "1810      EP              4\n",
      "2746     NaN              5\n",
      "4983      NI              6\n",
      "169717    SA              7\n"
     ]
    }
   ],
   "source": [
    "print(df[['BASIN', 'BASIN_encoded']].drop_duplicates())"
   ]
  },
  {
   "cell_type": "code",
   "execution_count": null,
   "metadata": {},
   "outputs": [
    {
     "name": "stdout",
     "output_type": "stream",
     "text": [
      "     SUBBASIN  SUBBASIN_encoded\n",
      "0                             0\n",
      "1          MM                 1\n",
      "55         EA                 2\n",
      "143        WA                 3\n",
      "1810       CP                 4\n",
      "2746      NaN                 5\n",
      "2761       GM                 6\n",
      "3215       CS                 7\n",
      "4983       BB                 8\n",
      "5045       AS                 9\n"
     ]
    }
   ],
   "source": [
    "print(df[['SUBBASIN', 'SUBBASIN_encoded']].drop_duplicates())"
   ]
  },
  {
   "cell_type": "code",
   "execution_count": null,
   "metadata": {},
   "outputs": [],
   "source": [
    "# Convertir les colonnes en type numérique (forcer les erreurs à NaN si des chaînes sont présentes)\n",
    "\n",
    "df['BASIN_encoded'] = pd.to_numeric(df['BASIN_encoded'], errors='coerce')\n",
    "df['SUBBASIN_encoded'] = pd.to_numeric(df['SUBBASIN_encoded'], errors='coerce')\n",
    "df['TD9636_STAGE'] = pd.to_numeric(df['TD9636_STAGE'], errors='coerce')\n"
   ]
  },
  {
   "cell_type": "code",
   "execution_count": 55,
   "metadata": {},
   "outputs": [
    {
     "name": "stdout",
     "output_type": "stream",
     "text": [
      "BASIN_encoded            0\n",
      "SUBBASIN_encoded         0\n",
      "TD9636_STAGE        248756\n",
      "dtype: int64\n"
     ]
    }
   ],
   "source": [
    "# Vérifier les valeurs manquantes\n",
    "print(df[['BASIN_encoded', 'SUBBASIN_encoded', 'TD9636_STAGE']].isna().sum())\n",
    "\n",
    "# Supprimer les lignes contenant des NaN dans ces colonnes\n",
    "df_cleaned = df.dropna(subset=['BASIN_encoded', 'SUBBASIN_encoded', 'TD9636_STAGE'])\n"
   ]
  },
  {
   "cell_type": "code",
   "execution_count": 58,
   "metadata": {},
   "outputs": [
    {
     "name": "stdout",
     "output_type": "stream",
     "text": [
      "Corrélation entre BASIN_encoded et TD9636_STAGE : 0.00230569887445233\n",
      "Corrélation entre SUBBASIN_encoded et TD9636_STAGE : -0.044855441114447614\n"
     ]
    }
   ],
   "source": [
    "# Calculer la corrélation après nettoyage\n",
    "correlation_basin = df_cleaned['BASIN_encoded'].corr(df_cleaned['TD9636_STAGE'])\n",
    "correlation_subbasin = df_cleaned['SUBBASIN_encoded'].corr(df_cleaned['TD9636_STAGE'])\n",
    "\n",
    "print(f\"Corrélation entre BASIN_encoded et TD9636_STAGE : {correlation_basin}\")\n",
    "print(f\"Corrélation entre SUBBASIN_encoded et TD9636_STAGE : {correlation_subbasin}\")\n"
   ]
  },
  {
   "cell_type": "markdown",
   "metadata": {},
   "source": [
    "<h3>Analyse de ces deux colonnes : on peut voir une corrélation de 0.002 et -0.004, cela signifie BASIN et SUBBASIN ont un très faible impact sur la valeur de TD9636_STAGE. Nous pouvons prendre la décision de les supprimer.<h3/>"
   ]
  },
  {
   "cell_type": "code",
   "execution_count": 65,
   "metadata": {},
   "outputs": [],
   "source": [
    "df.drop(columns=['BASIN', 'SUBBASIN'], inplace=True)"
   ]
  },
  {
   "cell_type": "code",
   "execution_count": 61,
   "metadata": {},
   "outputs": [
    {
     "name": "stdout",
     "output_type": "stream",
     "text": [
      "Colonnes avec des valeurs constantes :\n",
      "Index([], dtype='object')\n"
     ]
    }
   ],
   "source": [
    "#Identification des colonnes qui possèdent la même valeur à chaque ligne, qui sont donc inutiles\n",
    "\n",
    "columns_with_constant_values = df.nunique() == 1\n",
    "constant_columns = df.columns[columns_with_constant_values]\n",
    "print(\"Colonnes avec des valeurs constantes :\")\n",
    "print(constant_columns)\n"
   ]
  },
  {
   "cell_type": "code",
   "execution_count": 66,
   "metadata": {},
   "outputs": [],
   "source": [
    "#Suppression de cette colonne \n",
    "\n",
    "df.drop(columns=['MLC_CLASS'], inplace=True)"
   ]
  },
  {
   "cell_type": "markdown",
   "metadata": {},
   "source": [
    "<h3>On va maintenant encoder nos colonnes et les normaliser pour continuer notre étude. <h3/>"
   ]
  },
  {
   "cell_type": "code",
   "execution_count": 70,
   "metadata": {},
   "outputs": [
    {
     "name": "stdout",
     "output_type": "stream",
     "text": [
      "Colonnes à encoder : Index(['SID', 'SEASON', 'NUMBER', 'NAME', 'ISO_TIME', 'NATURE', 'LAT', 'LON',\n",
      "       'WMO_WIND', 'WMO_PRES',\n",
      "       ...\n",
      "       'BOM_GUST_PER', 'REUNION_GUST', 'REUNION_GUST_PER', 'USA_SEAHGT',\n",
      "       'USA_SEARAD_NE', 'USA_SEARAD_SE', 'USA_SEARAD_SW', 'USA_SEARAD_NW',\n",
      "       'STORM_SPEED', 'STORM_DIR'],\n",
      "      dtype='object', length=170)\n"
     ]
    }
   ],
   "source": [
    "# Identifier les colonnes de type objet (string)\n",
    "string_columns = df.select_dtypes(include=['object']).columns\n",
    "print(\"Colonnes à encoder :\", string_columns)"
   ]
  }
 ],
 "metadata": {
  "kernelspec": {
   "display_name": "base",
   "language": "python",
   "name": "python3"
  },
  "language_info": {
   "codemirror_mode": {
    "name": "ipython",
    "version": 3
   },
   "file_extension": ".py",
   "mimetype": "text/x-python",
   "name": "python",
   "nbconvert_exporter": "python",
   "pygments_lexer": "ipython3",
   "version": "3.10.14"
  }
 },
 "nbformat": 4,
 "nbformat_minor": 2
}
