{
 "cells": [
  {
   "cell_type": "markdown",
   "metadata": {},
   "source": [
    "<h2>1. Contexte<h2/>"
   ]
  },
  {
   "cell_type": "markdown",
   "metadata": {},
   "source": [
    "<h2>This notebook is dedicated to understanding the subject and exploring the data.<h2/>"
   ]
  },
  {
   "cell_type": "markdown",
   "metadata": {},
   "source": [
    "<h3>\"The dataset includes 174 metrics and 297,099 rows of data of tropical storms in the United States\n",
    "collected from 1980 onwards. The data is raw, imperfect, and has not been cleaned or preprocessed.\"<h3/>"
   ]
  },
  {
   "cell_type": "markdown",
   "metadata": {},
   "source": [
    "<h3>\"Information about the dataset attributes can be found in the IBTRACS_variable_documentation file. Using the provided dataset, you are asked to train a model to predict the severity of a tropical cyclone based on geographical input data.\"<h3/>"
   ]
  },
  {
   "cell_type": "markdown",
   "metadata": {},
   "source": [
    "We want to predict the 145th column of the dataset"
   ]
  },
  {
   "attachments": {
    "image.png": {
     "image/png": "[encoded data removed]"
    }
   },
   "cell_type": "markdown",
   "metadata": {},
   "source": [
    "![image.png](attachment:image.png)"
   ]
  },
  {
   "cell_type": "markdown",
   "metadata": {},
   "source": [
    "<h2>2. Data Exploration<h2/>"
   ]
  },
  {
   "cell_type": "code",
   "execution_count": 36,
   "metadata": {},
   "outputs": [],
   "source": [
    "#Import libraries \n",
    "\n",
    "import pandas as pd\n",
    "import numpy as np\n",
    "import matplotlib.pyplot as plt\n",
    "import sklearn\n",
    "import plotly.express as px\n",
    "import seaborn as sns"
   ]
  },
  {
   "cell_type": "markdown",
   "metadata": {},
   "source": [
    "We noticed that the first row, that gives units of certain columns needed to be removed, as it would have been an issuein our dataset. "
   ]
  },
  {
   "cell_type": "code",
   "execution_count": 37,
   "metadata": {},
   "outputs": [
    {
     "data": {
      "text/html": [
       "<div>\n",
       "<style scoped>\n",
       "    .dataframe tbody tr th:only-of-type {\n",
       "        vertical-align: middle;\n",
       "    }\n",
       "\n",
       "    .dataframe tbody tr th {\n",
       "        vertical-align: top;\n",
       "    }\n",
       "\n",
       "    .dataframe thead th {\n",
       "        text-align: right;\n",
       "    }\n",
       "</style>\n",
       "<table border=\"1\" class=\"dataframe\">\n",
       "  <thead>\n",
       "    <tr style=\"text-align: right;\">\n",
       "      <th></th>\n",
       "      <th>SID</th>\n",
       "      <th>SEASON</th>\n",
       "      <th>NUMBER</th>\n",
       "      <th>BASIN</th>\n",
       "      <th>SUBBASIN</th>\n",
       "      <th>NAME</th>\n",
       "      <th>ISO_TIME</th>\n",
       "      <th>NATURE</th>\n",
       "      <th>LAT</th>\n",
       "      <th>LON</th>\n",
       "      <th>...</th>\n",
       "      <th>BOM_GUST_PER</th>\n",
       "      <th>REUNION_GUST</th>\n",
       "      <th>REUNION_GUST_PER</th>\n",
       "      <th>USA_SEAHGT</th>\n",
       "      <th>USA_SEARAD_NE</th>\n",
       "      <th>USA_SEARAD_SE</th>\n",
       "      <th>USA_SEARAD_SW</th>\n",
       "      <th>USA_SEARAD_NW</th>\n",
       "      <th>STORM_SPEED</th>\n",
       "      <th>STORM_DIR</th>\n",
       "    </tr>\n",
       "  </thead>\n",
       "  <tbody>\n",
       "    <tr>\n",
       "      <th>0</th>\n",
       "      <td>1980001S13173</td>\n",
       "      <td>1980</td>\n",
       "      <td>1</td>\n",
       "      <td>SP</td>\n",
       "      <td>MM</td>\n",
       "      <td>PENI</td>\n",
       "      <td>1980-01-01 00:00:00</td>\n",
       "      <td>TS</td>\n",
       "      <td>-12.5</td>\n",
       "      <td>172.5</td>\n",
       "      <td>...</td>\n",
       "      <td>NaN</td>\n",
       "      <td>NaN</td>\n",
       "      <td>NaN</td>\n",
       "      <td>NaN</td>\n",
       "      <td>NaN</td>\n",
       "      <td>NaN</td>\n",
       "      <td>NaN</td>\n",
       "      <td>NaN</td>\n",
       "      <td>6</td>\n",
       "      <td>350</td>\n",
       "    </tr>\n",
       "    <tr>\n",
       "      <th>1</th>\n",
       "      <td>1980001S13173</td>\n",
       "      <td>1980</td>\n",
       "      <td>1</td>\n",
       "      <td>SP</td>\n",
       "      <td>MM</td>\n",
       "      <td>PENI</td>\n",
       "      <td>1980-01-01 03:00:00</td>\n",
       "      <td>TS</td>\n",
       "      <td>-12.2</td>\n",
       "      <td>172.4</td>\n",
       "      <td>...</td>\n",
       "      <td>NaN</td>\n",
       "      <td>NaN</td>\n",
       "      <td>NaN</td>\n",
       "      <td>NaN</td>\n",
       "      <td>NaN</td>\n",
       "      <td>NaN</td>\n",
       "      <td>NaN</td>\n",
       "      <td>NaN</td>\n",
       "      <td>6</td>\n",
       "      <td>350</td>\n",
       "    </tr>\n",
       "    <tr>\n",
       "      <th>2</th>\n",
       "      <td>1980001S13173</td>\n",
       "      <td>1980</td>\n",
       "      <td>1</td>\n",
       "      <td>SP</td>\n",
       "      <td>MM</td>\n",
       "      <td>PENI</td>\n",
       "      <td>1980-01-01 06:00:00</td>\n",
       "      <td>TS</td>\n",
       "      <td>-11.9</td>\n",
       "      <td>172.4</td>\n",
       "      <td>...</td>\n",
       "      <td>NaN</td>\n",
       "      <td>NaN</td>\n",
       "      <td>NaN</td>\n",
       "      <td>NaN</td>\n",
       "      <td>NaN</td>\n",
       "      <td>NaN</td>\n",
       "      <td>NaN</td>\n",
       "      <td>NaN</td>\n",
       "      <td>5</td>\n",
       "      <td>360</td>\n",
       "    </tr>\n",
       "    <tr>\n",
       "      <th>3</th>\n",
       "      <td>1980001S13173</td>\n",
       "      <td>1980</td>\n",
       "      <td>1</td>\n",
       "      <td>SP</td>\n",
       "      <td>MM</td>\n",
       "      <td>PENI</td>\n",
       "      <td>1980-01-01 09:00:00</td>\n",
       "      <td>TS</td>\n",
       "      <td>-11.7</td>\n",
       "      <td>172.4</td>\n",
       "      <td>...</td>\n",
       "      <td>NaN</td>\n",
       "      <td>NaN</td>\n",
       "      <td>NaN</td>\n",
       "      <td>NaN</td>\n",
       "      <td>NaN</td>\n",
       "      <td>NaN</td>\n",
       "      <td>NaN</td>\n",
       "      <td>NaN</td>\n",
       "      <td>4</td>\n",
       "      <td>10</td>\n",
       "    </tr>\n",
       "    <tr>\n",
       "      <th>4</th>\n",
       "      <td>1980001S13173</td>\n",
       "      <td>1980</td>\n",
       "      <td>1</td>\n",
       "      <td>SP</td>\n",
       "      <td>MM</td>\n",
       "      <td>PENI</td>\n",
       "      <td>1980-01-01 12:00:00</td>\n",
       "      <td>TS</td>\n",
       "      <td>-11.5</td>\n",
       "      <td>172.5</td>\n",
       "      <td>...</td>\n",
       "      <td>NaN</td>\n",
       "      <td>NaN</td>\n",
       "      <td>NaN</td>\n",
       "      <td>NaN</td>\n",
       "      <td>NaN</td>\n",
       "      <td>NaN</td>\n",
       "      <td>NaN</td>\n",
       "      <td>NaN</td>\n",
       "      <td>4</td>\n",
       "      <td>20</td>\n",
       "    </tr>\n",
       "  </tbody>\n",
       "</table>\n",
       "<p>5 rows × 174 columns</p>\n",
       "</div>"
      ],
      "text/plain": [
       "             SID SEASON NUMBER BASIN SUBBASIN  NAME             ISO_TIME  \\\n",
       "0  1980001S13173   1980      1    SP       MM  PENI  1980-01-01 00:00:00   \n",
       "1  1980001S13173   1980      1    SP       MM  PENI  1980-01-01 03:00:00   \n",
       "2  1980001S13173   1980      1    SP       MM  PENI  1980-01-01 06:00:00   \n",
       "3  1980001S13173   1980      1    SP       MM  PENI  1980-01-01 09:00:00   \n",
       "4  1980001S13173   1980      1    SP       MM  PENI  1980-01-01 12:00:00   \n",
       "\n",
       "  NATURE    LAT    LON  ... BOM_GUST_PER REUNION_GUST REUNION_GUST_PER  \\\n",
       "0     TS  -12.5  172.5  ...          NaN          NaN              NaN   \n",
       "1     TS  -12.2  172.4  ...          NaN          NaN              NaN   \n",
       "2     TS  -11.9  172.4  ...          NaN          NaN              NaN   \n",
       "3     TS  -11.7  172.4  ...          NaN          NaN              NaN   \n",
       "4     TS  -11.5  172.5  ...          NaN          NaN              NaN   \n",
       "\n",
       "  USA_SEAHGT USA_SEARAD_NE USA_SEARAD_SE USA_SEARAD_SW USA_SEARAD_NW  \\\n",
       "0        NaN           NaN           NaN           NaN           NaN   \n",
       "1        NaN           NaN           NaN           NaN           NaN   \n",
       "2        NaN           NaN           NaN           NaN           NaN   \n",
       "3        NaN           NaN           NaN           NaN           NaN   \n",
       "4        NaN           NaN           NaN           NaN           NaN   \n",
       "\n",
       "  STORM_SPEED STORM_DIR  \n",
       "0           6       350  \n",
       "1           6       350  \n",
       "2           5       360  \n",
       "3           4        10  \n",
       "4           4        20  \n",
       "\n",
       "[5 rows x 174 columns]"
      ]
     },
     "execution_count": 37,
     "metadata": {},
     "output_type": "execute_result"
    }
   ],
   "source": [
    "#Import and read the csv file, forcing the NaN values in case of formating issues. Display the 5 first rows\n",
    "\n",
    "df = pd.read_csv(\"ibtracs.csv\",low_memory=False, na_values=[\"\", \" \", \"-\", \"NA\", \"N/A\"],dtype=str,skiprows=[1]) # to correct the formating issue when importing the csv\n",
    "df.head(5)"
   ]
  },
  {
   "cell_type": "code",
   "execution_count": 38,
   "metadata": {},
   "outputs": [
    {
     "name": "stdout",
     "output_type": "stream",
     "text": [
      "SID               object\n",
      "SEASON             int64\n",
      "NUMBER             int64\n",
      "BASIN             object\n",
      "SUBBASIN          object\n",
      "                  ...   \n",
      "USA_SEARAD_SE    float64\n",
      "USA_SEARAD_SW    float64\n",
      "USA_SEARAD_NW    float64\n",
      "STORM_SPEED      float64\n",
      "STORM_DIR        float64\n",
      "Length: 174, dtype: object\n"
     ]
    }
   ],
   "source": [
    "for col in df.columns:\n",
    "    try:\n",
    "        df[col] = pd.to_numeric(df[col])  # Convert to int ou float if possible\n",
    "    except ValueError:\n",
    "        pass  # Ignore errors\n",
    "\n",
    "print(df.dtypes)"
   ]
  },
  {
   "cell_type": "code",
   "execution_count": 39,
   "metadata": {},
   "outputs": [
    {
     "data": {
      "text/plain": [
       "SID                   0\n",
       "SEASON                0\n",
       "NUMBER                0\n",
       "BASIN             40518\n",
       "SUBBASIN          32646\n",
       "                  ...  \n",
       "USA_SEARAD_SE    282038\n",
       "USA_SEARAD_SW    283730\n",
       "USA_SEARAD_NW    282124\n",
       "STORM_SPEED           8\n",
       "STORM_DIR             8\n",
       "Length: 174, dtype: int64"
      ]
     },
     "execution_count": 39,
     "metadata": {},
     "output_type": "execute_result"
    }
   ],
   "source": [
    "# We highlight the columns that will be challenging, here the ones with NaN\n",
    "df.isna().sum()"
   ]
  },
  {
   "cell_type": "code",
   "execution_count": 40,
   "metadata": {},
   "outputs": [
    {
     "name": "stdout",
     "output_type": "stream",
     "text": [
      "                  Missing Values Percentage\n",
      "MLC_LAT                          100.000000\n",
      "TD9635_ROCI                      100.000000\n",
      "REUNION_GUST                     100.000000\n",
      "MLC_CLASS                        100.000000\n",
      "MLC_WIND                         100.000000\n",
      "MLC_PRES                         100.000000\n",
      "TD9636_PRES                      100.000000\n",
      "TD9635_LAT                       100.000000\n",
      "TD9635_LON                       100.000000\n",
      "TD9635_WIND                      100.000000\n",
      "REUNION_R64_NW                   100.000000\n",
      "REUNION_R64_NE                   100.000000\n",
      "REUNION_R64_SW                   100.000000\n",
      "REUNION_R64_SE                   100.000000\n",
      "MLC_LON                          100.000000\n",
      "TD9635_PRES                      100.000000\n",
      "BOM_R64_NW                        99.806125\n",
      "BOM_R64_SW                        99.800403\n",
      "BOM_R64_SE                        99.795354\n",
      "BOM_R64_NE                        99.792324\n",
      "USA_RECORD                        99.754963\n",
      "DS824_PRES                        99.739816\n",
      "NEWDELHI_POCI                     99.702118\n",
      "BOM_EYE                           99.569839\n",
      "BOM_R50_NW                        99.290133\n",
      "BOM_R50_NE                        99.281045\n",
      "BOM_R50_SE                        99.268592\n",
      "BOM_R50_SW                        99.263879\n",
      "REUNION_R50_SE                    98.873436\n",
      "REUNION_R50_NE                    98.873436\n",
      "REUNION_R50_SW                    98.873436\n",
      "REUNION_R50_NW                    98.873436\n",
      "USA_EYE                           98.704131\n",
      "DS824_WIND                        98.598779\n",
      "DS824_LAT                         98.576564\n",
      "DS824_LON                         98.576564\n",
      "DS824_STAGE                       98.563437\n",
      "KMA_R50_SHORT                     98.419040\n",
      "KMA_R50_LONG                      98.382015\n",
      "KMA_R50_DIR                       98.311668\n",
      "BOM_R34_NE                        98.270268\n",
      "BOM_R34_NW                        98.236272\n",
      "BOM_TNUM                          98.200257\n",
      "BOM_R34_SE                        98.190496\n",
      "BOM_RMW                           98.174003\n",
      "NADI_CAT                          98.145730\n",
      "BOM_R34_SW                        98.103993\n",
      "REUNION_RMW                       98.037348\n",
      "REUNION_R34_SW                    97.742159\n",
      "REUNION_R34_SE                    97.742159\n",
      "REUNION_R34_NE                    97.742159\n",
      "REUNION_R34_NW                    97.742159\n",
      "NEWDELHI_CI                       97.727349\n",
      "NEUMANN_PRES                      97.683256\n",
      "REUNION_GUST_PER                  97.590694\n",
      "NADI_WIND                         97.469185\n",
      "NADI_PRES                         97.365852\n",
      "NEWDELHI_PRES                     97.346667\n",
      "NEWDELHI_DP                       97.301564\n",
      "NADI_LAT                          97.247710\n",
      "NADI_LON                          97.247710\n",
      "KMA_R30_SHORT                     97.170631\n",
      "KMA_R30_LONG                      97.141011\n",
      "KMA_R30_DIR                       97.084464\n",
      "NEWDELHI_WIND                     97.074366\n",
      "NEWDELHI_GRADE                    97.025561\n",
      "BOM_PRES_METHOD                   96.744172\n",
      "BOM_GUST                          96.741479\n",
      "BOM_GUST_PER                      96.741479\n",
      "NEWDELHI_LON                      96.646561\n",
      "NEWDELHI_LAT                      96.646561\n",
      "KMA_WIND                          96.445281\n",
      "BOM_POS_METHOD                    96.432490\n",
      "KMA_PRES                          96.426095\n",
      "KMA_LAT                           96.426095\n",
      "KMA_LON                           96.426095\n",
      "KMA_CAT                           96.358441\n",
      "REUNION_CI                        96.138648\n",
      "BOM_CI                            95.561734\n",
      "BOM_POCI                          95.560051\n",
      "USA_SEARAD_SW                     95.500475\n",
      "USA_SEARAD_NW                     94.959912\n",
      "USA_SEARAD_SE                     94.930966\n",
      "REUNION_TNUM                      94.584279\n",
      "USA_SEARAD_NE                     94.419350\n",
      "WELLINGTON_PRES                   94.266875\n",
      "USA_SEAHGT                        94.222445\n",
      "WELLINGTON_WIND                   94.193498\n",
      "WELLINGTON_LAT                    94.088819\n",
      "WELLINGTON_LON                    94.088819\n",
      "USA_GUST                          94.067614\n",
      "BOM_ROCI                          92.559694\n",
      "USA_R64_SW                        92.519977\n",
      "USA_R64_SE                        92.503484\n",
      "USA_R64_NW                        92.502474\n",
      "USA_R64_NE                        92.491030\n",
      "TOKYO_R50_SHORT                   91.659318\n",
      "TOKYO_R50_LONG                    91.653932\n",
      "REUNION_PRES                      90.542515\n",
      "REUNION_WIND                      90.352678\n",
      "BOM_PRES                          89.468458\n",
      "BOM_WIND                          89.440521\n",
      "BOM_TYPE                          89.367481\n",
      "REUNION_LAT                       89.203899\n",
      "REUNION_LON                       89.203899\n",
      "REUNION_TYPE                      89.178318\n",
      "BOM_LAT                           89.061522\n",
      "BOM_LON                           89.061522\n",
      "USA_R50_SW                        87.879757\n",
      "USA_R50_NW                        87.853503\n",
      "USA_R50_SE                        87.846771\n",
      "USA_R50_NE                        87.835327\n",
      "TD9636_WIND                       86.638752\n",
      "TOKYO_LAND                        86.123434\n",
      "TOKYO_R30_SHORT                   84.520596\n",
      "TOKYO_R30_LONG                    84.517230\n",
      "TOKYO_WIND                        84.517230\n",
      "TD9636_LON                        84.078991\n",
      "TD9636_LAT                        84.078991\n",
      "TD9636_STAGE                      83.728265\n",
      "NEUMANN_LAT                       83.041959\n",
      "NEUMANN_WIND                      83.041959\n",
      "NEUMANN_LON                       83.041959\n",
      "NEUMANN_CLASS                     82.881743\n",
      "HKO_WIND                          80.872305\n",
      "HKO_PRES                          80.872305\n",
      "HKO_LAT                           80.867593\n",
      "HKO_LON                           80.867593\n",
      "HKO_CAT                           80.495325\n",
      "USA_R34_SW                        76.501356\n",
      "USA_R34_NW                        76.491259\n",
      "USA_R34_SE                        76.486547\n",
      "USA_R34_NE                        76.482844\n",
      "CMA_WIND                          75.216259\n",
      "CMA_LAT                           75.203468\n",
      "CMA_LON                           75.203468\n",
      "CMA_PRES                          75.203468\n",
      "CMA_CAT                           74.924772\n",
      "TOKYO_LAT                         74.363005\n",
      "TOKYO_LON                         74.363005\n",
      "TOKYO_PRES                        74.363005\n",
      "TOKYO_GRADE                       74.277511\n",
      "TOKYO_R50_DIR                     74.277511\n",
      "TOKYO_R30_DIR                     74.277511\n",
      "USA_RMW                           64.618745\n",
      "USA_ROCI                          64.608311\n",
      "USA_POCI                          64.464251\n",
      "WMO_WIND                          62.075477\n",
      "WMO_PRES                          59.250820\n",
      "USA_AGENCY                        57.141078\n",
      "WMO_AGENCY                        56.035719\n",
      "USA_PRES                          49.353749\n",
      "USA_STATUS                        43.288746\n",
      "USA_WIND                          15.482097\n",
      "USA_LAT                           15.154595\n",
      "USA_LON                           15.154595\n",
      "USA_ATCF_ID                       14.545369\n",
      "BASIN                             13.637924\n",
      "SUBBASIN                          10.988293\n",
      "LANDFALL                           1.604521\n",
      "STORM_SPEED                        0.002693\n",
      "STORM_DIR                          0.002693\n",
      "DIST2LAND                          0.000000\n",
      "IFLAG                              0.000000\n",
      "USA_SSHS                           0.000000\n",
      "ISO_TIME                           0.000000\n",
      "NAME                               0.000000\n",
      "NUMBER                             0.000000\n",
      "SID                                0.000000\n",
      "TRACK_TYPE                         0.000000\n",
      "LON                                0.000000\n",
      "LAT                                0.000000\n",
      "NATURE                             0.000000\n",
      "SEASON                             0.000000\n"
     ]
    }
   ],
   "source": [
    "# We count the number of NaN per columns to estimate the percentage of the df it represents\n",
    "missing_values=df.isna().sum()\n",
    "columns_with_missing = missing_values[missing_values >= 0]\n",
    "\n",
    "# disable the display limit\n",
    "pd.set_option(\"display.max_rows\", None)\n",
    "\n",
    "total_rows = len(df)\n",
    "missing_percentage = (columns_with_missing / total_rows) * 100\n",
    "\n",
    "print(missing_percentage.sort_values(ascending=False).to_frame(name=\"Missing Values Percentage\"))\n",
    "\n",
    "# reinitialize the configuration\n",
    "pd.reset_option(\"display.max_rows\")"
   ]
  },
  {
   "cell_type": "code",
   "execution_count": 41,
   "metadata": {},
   "outputs": [
    {
     "data": {
      "application/vnd.plotly.v1+json": {
       "config": {
        "plotlyServerURL": "https://plot.ly"
       },
       "data": [
        {
         "alignmentgroup": "True",
         "hovertemplate": "Column Index=%{x}<br>Missing Percentage=%{y}<br>Column=%{text}<extra></extra>",
         "legendgroup": "",
         "marker": {
          "color": "#636efa",
          "pattern": {
           "shape": ""
          }
         },
         "name": "",
         "offsetgroup": "",
         "orientation": "v",
         "showlegend": false,
         "text": [
          "SID",
          "SEASON",
          "NUMBER",
          "BASIN",
          "SUBBASIN",
          "NAME",
          "ISO_TIME",
          "NATURE",
          "LAT",
          "LON",
          "WMO_WIND",
          "WMO_PRES",
          "WMO_AGENCY",
          "TRACK_TYPE",
          "DIST2LAND",
          "LANDFALL",
          "IFLAG",
          "USA_AGENCY",
          "USA_ATCF_ID",
          "USA_LAT",
          "USA_LON",
          "USA_RECORD",
          "USA_STATUS",
          "USA_WIND",
          "USA_PRES",
          "USA_SSHS",
          "USA_R34_NE",
          "USA_R34_SE",
          "USA_R34_SW",
          "USA_R34_NW",
          "USA_R50_NE",
          "USA_R50_SE",
          "USA_R50_SW",
          "USA_R50_NW",
          "USA_R64_NE",
          "USA_R64_SE",
          "USA_R64_SW",
          "USA_R64_NW",
          "USA_POCI",
          "USA_ROCI",
          "USA_RMW",
          "USA_EYE",
          "TOKYO_LAT",
          "TOKYO_LON",
          "TOKYO_GRADE",
          "TOKYO_WIND",
          "TOKYO_PRES",
          "TOKYO_R50_DIR",
          "TOKYO_R50_LONG",
          "TOKYO_R50_SHORT",
          "TOKYO_R30_DIR",
          "TOKYO_R30_LONG",
          "TOKYO_R30_SHORT",
          "TOKYO_LAND",
          "CMA_LAT",
          "CMA_LON",
          "CMA_CAT",
          "CMA_WIND",
          "CMA_PRES",
          "HKO_LAT",
          "HKO_LON",
          "HKO_CAT",
          "HKO_WIND",
          "HKO_PRES",
          "KMA_LAT",
          "KMA_LON",
          "KMA_CAT",
          "KMA_WIND",
          "KMA_PRES",
          "KMA_R50_DIR",
          "KMA_R50_LONG",
          "KMA_R50_SHORT",
          "KMA_R30_DIR",
          "KMA_R30_LONG",
          "KMA_R30_SHORT",
          "NEWDELHI_LAT",
          "NEWDELHI_LON",
          "NEWDELHI_GRADE",
          "NEWDELHI_WIND",
          "NEWDELHI_PRES",
          "NEWDELHI_CI",
          "NEWDELHI_DP",
          "NEWDELHI_POCI",
          "REUNION_LAT",
          "REUNION_LON",
          "REUNION_TYPE",
          "REUNION_WIND",
          "REUNION_PRES",
          "REUNION_TNUM",
          "REUNION_CI",
          "REUNION_RMW",
          "REUNION_R34_NE",
          "REUNION_R34_SE",
          "REUNION_R34_SW",
          "REUNION_R34_NW",
          "REUNION_R50_NE",
          "REUNION_R50_SE",
          "REUNION_R50_SW",
          "REUNION_R50_NW",
          "REUNION_R64_NE",
          "REUNION_R64_SE",
          "REUNION_R64_SW",
          "REUNION_R64_NW",
          "BOM_LAT",
          "BOM_LON",
          "BOM_TYPE",
          "BOM_WIND",
          "BOM_PRES",
          "BOM_TNUM",
          "BOM_CI",
          "BOM_RMW",
          "BOM_R34_NE",
          "BOM_R34_SE",
          "BOM_R34_SW",
          "BOM_R34_NW",
          "BOM_R50_NE",
          "BOM_R50_SE",
          "BOM_R50_SW",
          "BOM_R50_NW",
          "BOM_R64_NE",
          "BOM_R64_SE",
          "BOM_R64_SW",
          "BOM_R64_NW",
          "BOM_ROCI",
          "BOM_POCI",
          "BOM_EYE",
          "BOM_POS_METHOD",
          "BOM_PRES_METHOD",
          "NADI_LAT",
          "NADI_LON",
          "NADI_CAT",
          "NADI_WIND",
          "NADI_PRES",
          "WELLINGTON_LAT",
          "WELLINGTON_LON",
          "WELLINGTON_WIND",
          "WELLINGTON_PRES",
          "DS824_LAT",
          "DS824_LON",
          "DS824_STAGE",
          "DS824_WIND",
          "DS824_PRES",
          "TD9636_LAT",
          "TD9636_LON",
          "TD9636_STAGE",
          "TD9636_WIND",
          "TD9636_PRES",
          "TD9635_LAT",
          "TD9635_LON",
          "TD9635_WIND",
          "TD9635_PRES",
          "TD9635_ROCI",
          "NEUMANN_LAT",
          "NEUMANN_LON",
          "NEUMANN_CLASS",
          "NEUMANN_WIND",
          "NEUMANN_PRES",
          "MLC_LAT",
          "MLC_LON",
          "MLC_CLASS",
          "MLC_WIND",
          "MLC_PRES",
          "USA_GUST",
          "BOM_GUST",
          "BOM_GUST_PER",
          "REUNION_GUST",
          "REUNION_GUST_PER",
          "USA_SEAHGT",
          "USA_SEARAD_NE",
          "USA_SEARAD_SE",
          "USA_SEARAD_SW",
          "USA_SEARAD_NW",
          "STORM_SPEED",
          "STORM_DIR"
         ],
         "textposition": "auto",
         "type": "bar",
         "x": [
          0,
          1,
          2,
          3,
          4,
          5,
          6,
          7,
          8,
          9,
          10,
          11,
          12,
          13,
          14,
          15,
          16,
          17,
          18,
          19,
          20,
          21,
          22,
          23,
          24,
          25,
          26,
          27,
          28,
          29,
          30,
          31,
          32,
          33,
          34,
          35,
          36,
          37,
          38,
          39,
          40,
          41,
          42,
          43,
          44,
          45,
          46,
          47,
          48,
          49,
          50,
          51,
          52,
          53,
          54,
          55,
          56,
          57,
          58,
          59,
          60,
          61,
          62,
          63,
          64,
          65,
          66,
          67,
          68,
          69,
          70,
          71,
          72,
          73,
          74,
          75,
          76,
          77,
          78,
          79,
          80,
          81,
          82,
          83,
          84,
          85,
          86,
          87,
          88,
          89,
          90,
          91,
          92,
          93,
          94,
          95,
          96,
          97,
          98,
          99,
          100,
          101,
          102,
          103,
          104,
          105,
          106,
          107,
          108,
          109,
          110,
          111,
          112,
          113,
          114,
          115,
          116,
          117,
          118,
          119,
          120,
          121,
          122,
          123,
          124,
          125,
          126,
          127,
          128,
          129,
          130,
          131,
          132,
          133,
          134,
          135,
          136,
          137,
          138,
          139,
          140,
          141,
          142,
          143,
          144,
          145,
          146,
          147,
          148,
          149,
          150,
          151,
          152,
          153,
          154,
          155,
          156,
          157,
          158,
          159,
          160,
          161,
          162,
          163,
          164,
          165,
          166,
          167,
          168,
          169,
          170,
          171,
          172,
          173
         ],
         "xaxis": "x",
         "y": [
          0,
          0,
          0,
          13.63792418663202,
          10.98829342506513,
          0,
          0,
          0,
          0,
          0,
          62.07547677870602,
          59.25081959488116,
          56.03571885371157,
          0,
          0,
          1.6045210671226329,
          0,
          57.141078028125406,
          14.545368868184907,
          15.154595453352094,
          15.154595453352094,
          99.75496300883884,
          43.28874647422736,
          15.482096816538652,
          49.353748594739784,
          0,
          76.48284404472598,
          76.48654652673528,
          76.50135645477249,
          76.4912587765653,
          87.83532706379714,
          87.84677109909862,
          87.87975684790878,
          87.85350288457008,
          92.49102989585928,
          92.50348369898148,
          92.51997657338656,
          92.50247393116076,
          64.46425085325382,
          64.60831106234306,
          64.61874532982384,
          98.70413129674384,
          74.36300479976305,
          74.36300479976305,
          74.27751112427549,
          84.5172300049142,
          74.36300479976305,
          74.27751112427549,
          91.65393237248315,
          91.65931780086032,
          74.27751112427549,
          84.5172300049142,
          84.52059589764993,
          86.1234340184047,
          75.20346821587489,
          75.20346821587489,
          74.92477229735643,
          75.21625860827066,
          75.20346821587489,
          80.86759251156184,
          80.86759251156184,
          80.49532477499007,
          80.87230476139186,
          80.87230476139186,
          96.42609509320157,
          96.42609509320157,
          96.35844064921339,
          96.44528068179523,
          96.42609509320157,
          98.31166820375769,
          98.38201536193445,
          98.41904018202749,
          97.08446371231042,
          97.14101071027068,
          97.17063056634511,
          96.6465610673919,
          96.6465610673919,
          97.02556058943513,
          97.07436603410322,
          97.3466667564238,
          97.72734922483491,
          97.30156379376503,
          99.70211849288788,
          89.20389905014507,
          89.20389905014507,
          89.17831826535351,
          90.35267824084981,
          90.54251459114501,
          94.58427858820994,
          96.1386478535702,
          98.03734794579566,
          97.74215915287212,
          97.74215915287212,
          97.74215915287212,
          97.74215915287212,
          98.87343570135107,
          98.87343570135107,
          98.87343570135107,
          98.87343570135107,
          100,
          100,
          100,
          100,
          89.06152178742369,
          89.06152178742369,
          89.36748143710156,
          89.44052130946692,
          89.46845821917347,
          98.200257154205,
          95.56173383866603,
          98.17400319086632,
          98.27026772310819,
          98.19049606527139,
          98.10399262196312,
          98.23627220647732,
          99.28104531164801,
          99.2685915085258,
          99.26387925869578,
          99.29013322203448,
          99.79232441820544,
          99.7953537216676,
          99.80040256077119,
          99.80612457842194,
          92.55969410766818,
          95.56005089229816,
          99.56983890837367,
          96.43249028939945,
          96.74417195672808,
          97.24770950999334,
          97.24770950999334,
          98.14572969188617,
          97.4691852520044,
          97.36585234501747,
          94.08881917751046,
          94.08881917751046,
          94.19349844159166,
          94.26687490323059,
          98.57656396205967,
          98.57656396205967,
          98.5634369803903,
          98.59877885411548,
          99.73981649152805,
          84.07899077072211,
          84.07899077072211,
          83.72826474765903,
          86.63875219624501,
          100,
          100,
          100,
          100,
          100,
          100,
          83.0419592188436,
          83.0419592188436,
          82.88174272462285,
          83.0419592188436,
          97.68325602999684,
          100,
          100,
          100,
          100,
          100,
          94.06761405327535,
          96.7414792425395,
          96.7414792425395,
          100,
          97.59069397976425,
          94.22244511911894,
          94.41934984415916,
          94.93096553999017,
          95.50047459087574,
          94.95991221751746,
          0.002692714188584238,
          0.002692714188584238
         ],
         "yaxis": "y"
        }
       ],
       "layout": {
        "barmode": "relative",
        "legend": {
         "tracegroupgap": 0
        },
        "template": {
         "data": {
          "bar": [
           {
            "error_x": {
             "color": "#2a3f5f"
            },
            "error_y": {
             "color": "#2a3f5f"
            },
            "marker": {
             "line": {
              "color": "#E5ECF6",
              "width": 0.5
             },
             "pattern": {
              "fillmode": "overlay",
              "size": 10,
              "solidity": 0.2
             }
            },
            "type": "bar"
           }
          ],
          "barpolar": [
           {
            "marker": {
             "line": {
              "color": "#E5ECF6",
              "width": 0.5
             },
             "pattern": {
              "fillmode": "overlay",
              "size": 10,
              "solidity": 0.2
             }
            },
            "type": "barpolar"
           }
          ],
          "carpet": [
           {
            "aaxis": {
             "endlinecolor": "#2a3f5f",
             "gridcolor": "white",
             "linecolor": "white",
             "minorgridcolor": "white",
             "startlinecolor": "#2a3f5f"
            },
            "baxis": {
             "endlinecolor": "#2a3f5f",
             "gridcolor": "white",
             "linecolor": "white",
             "minorgridcolor": "white",
             "startlinecolor": "#2a3f5f"
            },
            "type": "carpet"
           }
          ],
          "choropleth": [
           {
            "colorbar": {
             "outlinewidth": 0,
             "ticks": ""
            },
            "type": "choropleth"
           }
          ],
          "contour": [
           {
            "colorbar": {
             "outlinewidth": 0,
             "ticks": ""
            },
            "colorscale": [
             [
              0,
              "#0d0887"
             ],
             [
              0.1111111111111111,
              "#46039f"
             ],
             [
              0.2222222222222222,
              "#7201a8"
             ],
             [
              0.3333333333333333,
              "#9c179e"
             ],
             [
              0.4444444444444444,
              "#bd3786"
             ],
             [
              0.5555555555555556,
              "#d8576b"
             ],
             [
              0.6666666666666666,
              "#ed7953"
             ],
             [
              0.7777777777777778,
              "#fb9f3a"
             ],
             [
              0.8888888888888888,
              "#fdca26"
             ],
             [
              1,
              "#f0f921"
             ]
            ],
            "type": "contour"
           }
          ],
          "contourcarpet": [
           {
            "colorbar": {
             "outlinewidth": 0,
             "ticks": ""
            },
            "type": "contourcarpet"
           }
          ],
          "heatmap": [
           {
            "colorbar": {
             "outlinewidth": 0,
             "ticks": ""
            },
            "colorscale": [
             [
              0,
              "#0d0887"
             ],
             [
              0.1111111111111111,
              "#46039f"
             ],
             [
              0.2222222222222222,
              "#7201a8"
             ],
             [
              0.3333333333333333,
              "#9c179e"
             ],
             [
              0.4444444444444444,
              "#bd3786"
             ],
             [
              0.5555555555555556,
              "#d8576b"
             ],
             [
              0.6666666666666666,
              "#ed7953"
             ],
             [
              0.7777777777777778,
              "#fb9f3a"
             ],
             [
              0.8888888888888888,
              "#fdca26"
             ],
             [
              1,
              "#f0f921"
             ]
            ],
            "type": "heatmap"
           }
          ],
          "heatmapgl": [
           {
            "colorbar": {
             "outlinewidth": 0,
             "ticks": ""
            },
            "colorscale": [
             [
              0,
              "#0d0887"
             ],
             [
              0.1111111111111111,
              "#46039f"
             ],
             [
              0.2222222222222222,
              "#7201a8"
             ],
             [
              0.3333333333333333,
              "#9c179e"
             ],
             [
              0.4444444444444444,
              "#bd3786"
             ],
             [
              0.5555555555555556,
              "#d8576b"
             ],
             [
              0.6666666666666666,
              "#ed7953"
             ],
             [
              0.7777777777777778,
              "#fb9f3a"
             ],
             [
              0.8888888888888888,
              "#fdca26"
             ],
             [
              1,
              "#f0f921"
             ]
            ],
            "type": "heatmapgl"
           }
          ],
          "histogram": [
           {
            "marker": {
             "pattern": {
              "fillmode": "overlay",
              "size": 10,
              "solidity": 0.2
             }
            },
            "type": "histogram"
           }
          ],
          "histogram2d": [
           {
            "colorbar": {
             "outlinewidth": 0,
             "ticks": ""
            },
            "colorscale": [
             [
              0,
              "#0d0887"
             ],
             [
              0.1111111111111111,
              "#46039f"
             ],
             [
              0.2222222222222222,
              "#7201a8"
             ],
             [
              0.3333333333333333,
              "#9c179e"
             ],
             [
              0.4444444444444444,
              "#bd3786"
             ],
             [
              0.5555555555555556,
              "#d8576b"
             ],
             [
              0.6666666666666666,
              "#ed7953"
             ],
             [
              0.7777777777777778,
              "#fb9f3a"
             ],
             [
              0.8888888888888888,
              "#fdca26"
             ],
             [
              1,
              "#f0f921"
             ]
            ],
            "type": "histogram2d"
           }
          ],
          "histogram2dcontour": [
           {
            "colorbar": {
             "outlinewidth": 0,
             "ticks": ""
            },
            "colorscale": [
             [
              0,
              "#0d0887"
             ],
             [
              0.1111111111111111,
              "#46039f"
             ],
             [
              0.2222222222222222,
              "#7201a8"
             ],
             [
              0.3333333333333333,
              "#9c179e"
             ],
             [
              0.4444444444444444,
              "#bd3786"
             ],
             [
              0.5555555555555556,
              "#d8576b"
             ],
             [
              0.6666666666666666,
              "#ed7953"
             ],
             [
              0.7777777777777778,
              "#fb9f3a"
             ],
             [
              0.8888888888888888,
              "#fdca26"
             ],
             [
              1,
              "#f0f921"
             ]
            ],
            "type": "histogram2dcontour"
           }
          ],
          "mesh3d": [
           {
            "colorbar": {
             "outlinewidth": 0,
             "ticks": ""
            },
            "type": "mesh3d"
           }
          ],
          "parcoords": [
           {
            "line": {
             "colorbar": {
              "outlinewidth": 0,
              "ticks": ""
             }
            },
            "type": "parcoords"
           }
          ],
          "pie": [
           {
            "automargin": true,
            "type": "pie"
           }
          ],
          "scatter": [
           {
            "fillpattern": {
             "fillmode": "overlay",
             "size": 10,
             "solidity": 0.2
            },
            "type": "scatter"
           }
          ],
          "scatter3d": [
           {
            "line": {
             "colorbar": {
              "outlinewidth": 0,
              "ticks": ""
             }
            },
            "marker": {
             "colorbar": {
              "outlinewidth": 0,
              "ticks": ""
             }
            },
            "type": "scatter3d"
           }
          ],
          "scattercarpet": [
           {
            "marker": {
             "colorbar": {
              "outlinewidth": 0,
              "ticks": ""
             }
            },
            "type": "scattercarpet"
           }
          ],
          "scattergeo": [
           {
            "marker": {
             "colorbar": {
              "outlinewidth": 0,
              "ticks": ""
             }
            },
            "type": "scattergeo"
           }
          ],
          "scattergl": [
           {
            "marker": {
             "colorbar": {
              "outlinewidth": 0,
              "ticks": ""
             }
            },
            "type": "scattergl"
           }
          ],
          "scattermapbox": [
           {
            "marker": {
             "colorbar": {
              "outlinewidth": 0,
              "ticks": ""
             }
            },
            "type": "scattermapbox"
           }
          ],
          "scatterpolar": [
           {
            "marker": {
             "colorbar": {
              "outlinewidth": 0,
              "ticks": ""
             }
            },
            "type": "scatterpolar"
           }
          ],
          "scatterpolargl": [
           {
            "marker": {
             "colorbar": {
              "outlinewidth": 0,
              "ticks": ""
             }
            },
            "type": "scatterpolargl"
           }
          ],
          "scatterternary": [
           {
            "marker": {
             "colorbar": {
              "outlinewidth": 0,
              "ticks": ""
             }
            },
            "type": "scatterternary"
           }
          ],
          "surface": [
           {
            "colorbar": {
             "outlinewidth": 0,
             "ticks": ""
            },
            "colorscale": [
             [
              0,
              "#0d0887"
             ],
             [
              0.1111111111111111,
              "#46039f"
             ],
             [
              0.2222222222222222,
              "#7201a8"
             ],
             [
              0.3333333333333333,
              "#9c179e"
             ],
             [
              0.4444444444444444,
              "#bd3786"
             ],
             [
              0.5555555555555556,
              "#d8576b"
             ],
             [
              0.6666666666666666,
              "#ed7953"
             ],
             [
              0.7777777777777778,
              "#fb9f3a"
             ],
             [
              0.8888888888888888,
              "#fdca26"
             ],
             [
              1,
              "#f0f921"
             ]
            ],
            "type": "surface"
           }
          ],
          "table": [
           {
            "cells": {
             "fill": {
              "color": "#EBF0F8"
             },
             "line": {
              "color": "white"
             }
            },
            "header": {
             "fill": {
              "color": "#C8D4E3"
             },
             "line": {
              "color": "white"
             }
            },
            "type": "table"
           }
          ]
         },
         "layout": {
          "annotationdefaults": {
           "arrowcolor": "#2a3f5f",
           "arrowhead": 0,
           "arrowwidth": 1
          },
          "autotypenumbers": "strict",
          "coloraxis": {
           "colorbar": {
            "outlinewidth": 0,
            "ticks": ""
           }
          },
          "colorscale": {
           "diverging": [
            [
             0,
             "#8e0152"
            ],
            [
             0.1,
             "#c51b7d"
            ],
            [
             0.2,
             "#de77ae"
            ],
            [
             0.3,
             "#f1b6da"
            ],
            [
             0.4,
             "#fde0ef"
            ],
            [
             0.5,
             "#f7f7f7"
            ],
            [
             0.6,
             "#e6f5d0"
            ],
            [
             0.7,
             "#b8e186"
            ],
            [
             0.8,
             "#7fbc41"
            ],
            [
             0.9,
             "#4d9221"
            ],
            [
             1,
             "#276419"
            ]
           ],
           "sequential": [
            [
             0,
             "#0d0887"
            ],
            [
             0.1111111111111111,
             "#46039f"
            ],
            [
             0.2222222222222222,
             "#7201a8"
            ],
            [
             0.3333333333333333,
             "#9c179e"
            ],
            [
             0.4444444444444444,
             "#bd3786"
            ],
            [
             0.5555555555555556,
             "#d8576b"
            ],
            [
             0.6666666666666666,
             "#ed7953"
            ],
            [
             0.7777777777777778,
             "#fb9f3a"
            ],
            [
             0.8888888888888888,
             "#fdca26"
            ],
            [
             1,
             "#f0f921"
            ]
           ],
           "sequentialminus": [
            [
             0,
             "#0d0887"
            ],
            [
             0.1111111111111111,
             "#46039f"
            ],
            [
             0.2222222222222222,
             "#7201a8"
            ],
            [
             0.3333333333333333,
             "#9c179e"
            ],
            [
             0.4444444444444444,
             "#bd3786"
            ],
            [
             0.5555555555555556,
             "#d8576b"
            ],
            [
             0.6666666666666666,
             "#ed7953"
            ],
            [
             0.7777777777777778,
             "#fb9f3a"
            ],
            [
             0.8888888888888888,
             "#fdca26"
            ],
            [
             1,
             "#f0f921"
            ]
           ]
          },
          "colorway": [
           "#636efa",
           "#EF553B",
           "#00cc96",
           "#ab63fa",
           "#FFA15A",
           "#19d3f3",
           "#FF6692",
           "#B6E880",
           "#FF97FF",
           "#FECB52"
          ],
          "font": {
           "color": "#2a3f5f"
          },
          "geo": {
           "bgcolor": "white",
           "lakecolor": "white",
           "landcolor": "#E5ECF6",
           "showlakes": true,
           "showland": true,
           "subunitcolor": "white"
          },
          "hoverlabel": {
           "align": "left"
          },
          "hovermode": "closest",
          "mapbox": {
           "style": "light"
          },
          "paper_bgcolor": "white",
          "plot_bgcolor": "#E5ECF6",
          "polar": {
           "angularaxis": {
            "gridcolor": "white",
            "linecolor": "white",
            "ticks": ""
           },
           "bgcolor": "#E5ECF6",
           "radialaxis": {
            "gridcolor": "white",
            "linecolor": "white",
            "ticks": ""
           }
          },
          "scene": {
           "xaxis": {
            "backgroundcolor": "#E5ECF6",
            "gridcolor": "white",
            "gridwidth": 2,
            "linecolor": "white",
            "showbackground": true,
            "ticks": "",
            "zerolinecolor": "white"
           },
           "yaxis": {
            "backgroundcolor": "#E5ECF6",
            "gridcolor": "white",
            "gridwidth": 2,
            "linecolor": "white",
            "showbackground": true,
            "ticks": "",
            "zerolinecolor": "white"
           },
           "zaxis": {
            "backgroundcolor": "#E5ECF6",
            "gridcolor": "white",
            "gridwidth": 2,
            "linecolor": "white",
            "showbackground": true,
            "ticks": "",
            "zerolinecolor": "white"
           }
          },
          "shapedefaults": {
           "line": {
            "color": "#2a3f5f"
           }
          },
          "ternary": {
           "aaxis": {
            "gridcolor": "white",
            "linecolor": "white",
            "ticks": ""
           },
           "baxis": {
            "gridcolor": "white",
            "linecolor": "white",
            "ticks": ""
           },
           "bgcolor": "#E5ECF6",
           "caxis": {
            "gridcolor": "white",
            "linecolor": "white",
            "ticks": ""
           }
          },
          "title": {
           "x": 0.05
          },
          "xaxis": {
           "automargin": true,
           "gridcolor": "white",
           "linecolor": "white",
           "ticks": "",
           "title": {
            "standoff": 15
           },
           "zerolinecolor": "white",
           "zerolinewidth": 2
          },
          "yaxis": {
           "automargin": true,
           "gridcolor": "white",
           "linecolor": "white",
           "ticks": "",
           "title": {
            "standoff": 15
           },
           "zerolinecolor": "white",
           "zerolinewidth": 2
          }
         }
        },
        "title": {
         "text": "Percentage of missing values per column"
        },
        "xaxis": {
         "anchor": "y",
         "domain": [
          0,
          1
         ],
         "title": {
          "text": "Column Index"
         }
        },
        "yaxis": {
         "anchor": "x",
         "domain": [
          0,
          1
         ],
         "title": {
          "text": "Missing Percentage"
         }
        }
       }
      }
     },
     "metadata": {},
     "output_type": "display_data"
    }
   ],
   "source": [
    "# Création d'un DataFrame pour Plotly\n",
    "missing_df = pd.DataFrame({\n",
    "    \"Column Index\": range(len(columns_with_missing)),\n",
    "    \"Column\": columns_with_missing.index,  \n",
    "    \"Missing Percentage\": missing_percentage.values  \n",
    "})\n",
    "\n",
    "# bar chart with plotly\n",
    "fig = px.bar(\n",
    "    missing_df,\n",
    "    x=\"Column Index\",\n",
    "    y=\"Missing Percentage\",\n",
    "    text=\"Column\",  #info-bulle\n",
    "    title=\"Percentage of missing values per column\"\n",
    ")\n",
    "fig.show()"
   ]
  },
  {
   "cell_type": "markdown",
   "metadata": {},
   "source": [
    "#### Now, we have a first look at the columns and especially a more detailed vue of the ones with the most of missing values and the one without missing values. As we see by that and by looking directly at the csv file,a lot of columns have a high percentage of missing values:  **151/174 columns have more than 50% of missing values, and 16/174 columns have no values at all**\n",
    "\n",
    "#### **We first decide to delete the columns that don't contain values, since they don't add anything.**"
   ]
  },
  {
   "cell_type": "code",
   "execution_count": 42,
   "metadata": {},
   "outputs": [
    {
     "data": {
      "text/plain": [
       "(297098, 158)"
      ]
     },
     "execution_count": 42,
     "metadata": {},
     "output_type": "execute_result"
    }
   ],
   "source": [
    "empty_columns=missing_percentage[missing_percentage==100]\n",
    "df.drop(columns=empty_columns.index,inplace=True)\n",
    "df.shape"
   ]
  },
  {
   "cell_type": "markdown",
   "metadata": {},
   "source": [
    "#### Another important point to notice is that the target metric itself, `TD9636_STAGE` has **83,7% of missing values**, so we need to further our investigation.\n",
    "### And it means that there are **48343 rows** with available value of TD9636_STAGE, which is still a considerate amount of data."
   ]
  },
  {
   "cell_type": "code",
   "execution_count": 43,
   "metadata": {},
   "outputs": [
    {
     "data": {
      "text/plain": [
       "TD9636_STAGE\n",
       "2.0    17204\n",
       "1.0    16028\n",
       "4.0    10623\n",
       "0.0     3156\n",
       "3.0      742\n",
       "5.0      331\n",
       "6.0      259\n",
       "Name: count, dtype: int64"
      ]
     },
     "execution_count": 43,
     "metadata": {},
     "output_type": "execute_result"
    }
   ],
   "source": [
    "df[\"TD9636_STAGE\"].value_counts()"
   ]
  },
  {
   "cell_type": "code",
   "execution_count": 44,
   "metadata": {},
   "outputs": [
    {
     "data": {
      "text/html": [
       "<div>\n",
       "<style scoped>\n",
       "    .dataframe tbody tr th:only-of-type {\n",
       "        vertical-align: middle;\n",
       "    }\n",
       "\n",
       "    .dataframe tbody tr th {\n",
       "        vertical-align: top;\n",
       "    }\n",
       "\n",
       "    .dataframe thead th {\n",
       "        text-align: right;\n",
       "    }\n",
       "</style>\n",
       "<table border=\"1\" class=\"dataframe\">\n",
       "  <thead>\n",
       "    <tr style=\"text-align: right;\">\n",
       "      <th></th>\n",
       "      <th>SID</th>\n",
       "      <th>SEASON</th>\n",
       "      <th>NUMBER</th>\n",
       "      <th>BASIN</th>\n",
       "      <th>SUBBASIN</th>\n",
       "      <th>NAME</th>\n",
       "      <th>ISO_TIME</th>\n",
       "      <th>NATURE</th>\n",
       "      <th>LAT</th>\n",
       "      <th>LON</th>\n",
       "      <th>...</th>\n",
       "      <th>BOM_GUST</th>\n",
       "      <th>BOM_GUST_PER</th>\n",
       "      <th>REUNION_GUST_PER</th>\n",
       "      <th>USA_SEAHGT</th>\n",
       "      <th>USA_SEARAD_NE</th>\n",
       "      <th>USA_SEARAD_SE</th>\n",
       "      <th>USA_SEARAD_SW</th>\n",
       "      <th>USA_SEARAD_NW</th>\n",
       "      <th>STORM_SPEED</th>\n",
       "      <th>STORM_DIR</th>\n",
       "    </tr>\n",
       "  </thead>\n",
       "  <tbody>\n",
       "    <tr>\n",
       "      <th>0</th>\n",
       "      <td>1980001S13173</td>\n",
       "      <td>1980</td>\n",
       "      <td>1</td>\n",
       "      <td>SP</td>\n",
       "      <td>MM</td>\n",
       "      <td>PENI</td>\n",
       "      <td>1980-01-01 00:00:00</td>\n",
       "      <td>TS</td>\n",
       "      <td>-12.5</td>\n",
       "      <td>172.5</td>\n",
       "      <td>...</td>\n",
       "      <td>NaN</td>\n",
       "      <td>NaN</td>\n",
       "      <td>NaN</td>\n",
       "      <td>NaN</td>\n",
       "      <td>NaN</td>\n",
       "      <td>NaN</td>\n",
       "      <td>NaN</td>\n",
       "      <td>NaN</td>\n",
       "      <td>6.0</td>\n",
       "      <td>350.0</td>\n",
       "    </tr>\n",
       "    <tr>\n",
       "      <th>1</th>\n",
       "      <td>1980001S13173</td>\n",
       "      <td>1980</td>\n",
       "      <td>1</td>\n",
       "      <td>SP</td>\n",
       "      <td>MM</td>\n",
       "      <td>PENI</td>\n",
       "      <td>1980-01-01 03:00:00</td>\n",
       "      <td>TS</td>\n",
       "      <td>-12.2</td>\n",
       "      <td>172.4</td>\n",
       "      <td>...</td>\n",
       "      <td>NaN</td>\n",
       "      <td>NaN</td>\n",
       "      <td>NaN</td>\n",
       "      <td>NaN</td>\n",
       "      <td>NaN</td>\n",
       "      <td>NaN</td>\n",
       "      <td>NaN</td>\n",
       "      <td>NaN</td>\n",
       "      <td>6.0</td>\n",
       "      <td>350.0</td>\n",
       "    </tr>\n",
       "    <tr>\n",
       "      <th>2</th>\n",
       "      <td>1980001S13173</td>\n",
       "      <td>1980</td>\n",
       "      <td>1</td>\n",
       "      <td>SP</td>\n",
       "      <td>MM</td>\n",
       "      <td>PENI</td>\n",
       "      <td>1980-01-01 06:00:00</td>\n",
       "      <td>TS</td>\n",
       "      <td>-11.9</td>\n",
       "      <td>172.4</td>\n",
       "      <td>...</td>\n",
       "      <td>NaN</td>\n",
       "      <td>NaN</td>\n",
       "      <td>NaN</td>\n",
       "      <td>NaN</td>\n",
       "      <td>NaN</td>\n",
       "      <td>NaN</td>\n",
       "      <td>NaN</td>\n",
       "      <td>NaN</td>\n",
       "      <td>5.0</td>\n",
       "      <td>360.0</td>\n",
       "    </tr>\n",
       "    <tr>\n",
       "      <th>3</th>\n",
       "      <td>1980001S13173</td>\n",
       "      <td>1980</td>\n",
       "      <td>1</td>\n",
       "      <td>SP</td>\n",
       "      <td>MM</td>\n",
       "      <td>PENI</td>\n",
       "      <td>1980-01-01 09:00:00</td>\n",
       "      <td>TS</td>\n",
       "      <td>-11.7</td>\n",
       "      <td>172.4</td>\n",
       "      <td>...</td>\n",
       "      <td>NaN</td>\n",
       "      <td>NaN</td>\n",
       "      <td>NaN</td>\n",
       "      <td>NaN</td>\n",
       "      <td>NaN</td>\n",
       "      <td>NaN</td>\n",
       "      <td>NaN</td>\n",
       "      <td>NaN</td>\n",
       "      <td>4.0</td>\n",
       "      <td>10.0</td>\n",
       "    </tr>\n",
       "    <tr>\n",
       "      <th>4</th>\n",
       "      <td>1980001S13173</td>\n",
       "      <td>1980</td>\n",
       "      <td>1</td>\n",
       "      <td>SP</td>\n",
       "      <td>MM</td>\n",
       "      <td>PENI</td>\n",
       "      <td>1980-01-01 12:00:00</td>\n",
       "      <td>TS</td>\n",
       "      <td>-11.5</td>\n",
       "      <td>172.5</td>\n",
       "      <td>...</td>\n",
       "      <td>NaN</td>\n",
       "      <td>NaN</td>\n",
       "      <td>NaN</td>\n",
       "      <td>NaN</td>\n",
       "      <td>NaN</td>\n",
       "      <td>NaN</td>\n",
       "      <td>NaN</td>\n",
       "      <td>NaN</td>\n",
       "      <td>4.0</td>\n",
       "      <td>20.0</td>\n",
       "    </tr>\n",
       "    <tr>\n",
       "      <th>...</th>\n",
       "      <td>...</td>\n",
       "      <td>...</td>\n",
       "      <td>...</td>\n",
       "      <td>...</td>\n",
       "      <td>...</td>\n",
       "      <td>...</td>\n",
       "      <td>...</td>\n",
       "      <td>...</td>\n",
       "      <td>...</td>\n",
       "      <td>...</td>\n",
       "      <td>...</td>\n",
       "      <td>...</td>\n",
       "      <td>...</td>\n",
       "      <td>...</td>\n",
       "      <td>...</td>\n",
       "      <td>...</td>\n",
       "      <td>...</td>\n",
       "      <td>...</td>\n",
       "      <td>...</td>\n",
       "      <td>...</td>\n",
       "      <td>...</td>\n",
       "    </tr>\n",
       "    <tr>\n",
       "      <th>67405</th>\n",
       "      <td>1989354N05155</td>\n",
       "      <td>1989</td>\n",
       "      <td>129</td>\n",
       "      <td>WP</td>\n",
       "      <td>MM</td>\n",
       "      <td>JACK</td>\n",
       "      <td>1989-12-29 00:00:00</td>\n",
       "      <td>TS</td>\n",
       "      <td>14.6</td>\n",
       "      <td>141.6</td>\n",
       "      <td>...</td>\n",
       "      <td>NaN</td>\n",
       "      <td>NaN</td>\n",
       "      <td>NaN</td>\n",
       "      <td>NaN</td>\n",
       "      <td>NaN</td>\n",
       "      <td>NaN</td>\n",
       "      <td>NaN</td>\n",
       "      <td>NaN</td>\n",
       "      <td>9.0</td>\n",
       "      <td>250.0</td>\n",
       "    </tr>\n",
       "    <tr>\n",
       "      <th>67406</th>\n",
       "      <td>1989354N05155</td>\n",
       "      <td>1989</td>\n",
       "      <td>129</td>\n",
       "      <td>WP</td>\n",
       "      <td>MM</td>\n",
       "      <td>JACK</td>\n",
       "      <td>1989-12-29 03:00:00</td>\n",
       "      <td>TS</td>\n",
       "      <td>14.4</td>\n",
       "      <td>141.2</td>\n",
       "      <td>...</td>\n",
       "      <td>NaN</td>\n",
       "      <td>NaN</td>\n",
       "      <td>NaN</td>\n",
       "      <td>NaN</td>\n",
       "      <td>NaN</td>\n",
       "      <td>NaN</td>\n",
       "      <td>NaN</td>\n",
       "      <td>NaN</td>\n",
       "      <td>9.0</td>\n",
       "      <td>250.0</td>\n",
       "    </tr>\n",
       "    <tr>\n",
       "      <th>67407</th>\n",
       "      <td>1989354N05155</td>\n",
       "      <td>1989</td>\n",
       "      <td>129</td>\n",
       "      <td>WP</td>\n",
       "      <td>MM</td>\n",
       "      <td>JACK</td>\n",
       "      <td>1989-12-29 06:00:00</td>\n",
       "      <td>TS</td>\n",
       "      <td>14.3</td>\n",
       "      <td>140.8</td>\n",
       "      <td>...</td>\n",
       "      <td>NaN</td>\n",
       "      <td>NaN</td>\n",
       "      <td>NaN</td>\n",
       "      <td>NaN</td>\n",
       "      <td>NaN</td>\n",
       "      <td>NaN</td>\n",
       "      <td>NaN</td>\n",
       "      <td>NaN</td>\n",
       "      <td>8.0</td>\n",
       "      <td>250.0</td>\n",
       "    </tr>\n",
       "    <tr>\n",
       "      <th>67408</th>\n",
       "      <td>1989354N05155</td>\n",
       "      <td>1989</td>\n",
       "      <td>129</td>\n",
       "      <td>WP</td>\n",
       "      <td>MM</td>\n",
       "      <td>JACK</td>\n",
       "      <td>1989-12-29 09:00:00</td>\n",
       "      <td>TS</td>\n",
       "      <td>14.1</td>\n",
       "      <td>140.4</td>\n",
       "      <td>...</td>\n",
       "      <td>NaN</td>\n",
       "      <td>NaN</td>\n",
       "      <td>NaN</td>\n",
       "      <td>NaN</td>\n",
       "      <td>NaN</td>\n",
       "      <td>NaN</td>\n",
       "      <td>NaN</td>\n",
       "      <td>NaN</td>\n",
       "      <td>8.0</td>\n",
       "      <td>250.0</td>\n",
       "    </tr>\n",
       "    <tr>\n",
       "      <th>67409</th>\n",
       "      <td>1989354N05155</td>\n",
       "      <td>1989</td>\n",
       "      <td>129</td>\n",
       "      <td>WP</td>\n",
       "      <td>MM</td>\n",
       "      <td>JACK</td>\n",
       "      <td>1989-12-29 12:00:00</td>\n",
       "      <td>TS</td>\n",
       "      <td>14.0</td>\n",
       "      <td>140.0</td>\n",
       "      <td>...</td>\n",
       "      <td>NaN</td>\n",
       "      <td>NaN</td>\n",
       "      <td>NaN</td>\n",
       "      <td>NaN</td>\n",
       "      <td>NaN</td>\n",
       "      <td>NaN</td>\n",
       "      <td>NaN</td>\n",
       "      <td>NaN</td>\n",
       "      <td>8.0</td>\n",
       "      <td>250.0</td>\n",
       "    </tr>\n",
       "  </tbody>\n",
       "</table>\n",
       "<p>48343 rows × 158 columns</p>\n",
       "</div>"
      ],
      "text/plain": [
       "                 SID  SEASON  NUMBER BASIN SUBBASIN  NAME  \\\n",
       "0      1980001S13173    1980       1    SP       MM  PENI   \n",
       "1      1980001S13173    1980       1    SP       MM  PENI   \n",
       "2      1980001S13173    1980       1    SP       MM  PENI   \n",
       "3      1980001S13173    1980       1    SP       MM  PENI   \n",
       "4      1980001S13173    1980       1    SP       MM  PENI   \n",
       "...              ...     ...     ...   ...      ...   ...   \n",
       "67405  1989354N05155    1989     129    WP       MM  JACK   \n",
       "67406  1989354N05155    1989     129    WP       MM  JACK   \n",
       "67407  1989354N05155    1989     129    WP       MM  JACK   \n",
       "67408  1989354N05155    1989     129    WP       MM  JACK   \n",
       "67409  1989354N05155    1989     129    WP       MM  JACK   \n",
       "\n",
       "                  ISO_TIME NATURE   LAT    LON  ...  BOM_GUST  BOM_GUST_PER  \\\n",
       "0      1980-01-01 00:00:00     TS -12.5  172.5  ...       NaN           NaN   \n",
       "1      1980-01-01 03:00:00     TS -12.2  172.4  ...       NaN           NaN   \n",
       "2      1980-01-01 06:00:00     TS -11.9  172.4  ...       NaN           NaN   \n",
       "3      1980-01-01 09:00:00     TS -11.7  172.4  ...       NaN           NaN   \n",
       "4      1980-01-01 12:00:00     TS -11.5  172.5  ...       NaN           NaN   \n",
       "...                    ...    ...   ...    ...  ...       ...           ...   \n",
       "67405  1989-12-29 00:00:00     TS  14.6  141.6  ...       NaN           NaN   \n",
       "67406  1989-12-29 03:00:00     TS  14.4  141.2  ...       NaN           NaN   \n",
       "67407  1989-12-29 06:00:00     TS  14.3  140.8  ...       NaN           NaN   \n",
       "67408  1989-12-29 09:00:00     TS  14.1  140.4  ...       NaN           NaN   \n",
       "67409  1989-12-29 12:00:00     TS  14.0  140.0  ...       NaN           NaN   \n",
       "\n",
       "      REUNION_GUST_PER USA_SEAHGT  USA_SEARAD_NE  USA_SEARAD_SE USA_SEARAD_SW  \\\n",
       "0                  NaN        NaN            NaN            NaN           NaN   \n",
       "1                  NaN        NaN            NaN            NaN           NaN   \n",
       "2                  NaN        NaN            NaN            NaN           NaN   \n",
       "3                  NaN        NaN            NaN            NaN           NaN   \n",
       "4                  NaN        NaN            NaN            NaN           NaN   \n",
       "...                ...        ...            ...            ...           ...   \n",
       "67405              NaN        NaN            NaN            NaN           NaN   \n",
       "67406              NaN        NaN            NaN            NaN           NaN   \n",
       "67407              NaN        NaN            NaN            NaN           NaN   \n",
       "67408              NaN        NaN            NaN            NaN           NaN   \n",
       "67409              NaN        NaN            NaN            NaN           NaN   \n",
       "\n",
       "      USA_SEARAD_NW STORM_SPEED  STORM_DIR  \n",
       "0               NaN         6.0      350.0  \n",
       "1               NaN         6.0      350.0  \n",
       "2               NaN         5.0      360.0  \n",
       "3               NaN         4.0       10.0  \n",
       "4               NaN         4.0       20.0  \n",
       "...             ...         ...        ...  \n",
       "67405           NaN         9.0      250.0  \n",
       "67406           NaN         9.0      250.0  \n",
       "67407           NaN         8.0      250.0  \n",
       "67408           NaN         8.0      250.0  \n",
       "67409           NaN         8.0      250.0  \n",
       "\n",
       "[48343 rows x 158 columns]"
      ]
     },
     "execution_count": 44,
     "metadata": {},
     "output_type": "execute_result"
    }
   ],
   "source": [
    "df.loc[df.TD9636_STAGE.notna(),:]"
   ]
  },
  {
   "cell_type": "markdown",
   "metadata": {},
   "source": [
    "### **Handling of `TD9636_STAGE`**\n",
    "83.7% of missing value is too important, we can't fill those.\n",
    "#### **We keep only the rows where `TD9636_STAGE` is not missing**  \n",
    "#### 📌 Advantages:  \n",
    "- Ensures the model is trained only with complete data.  \n",
    "- No need to handle missing target values.  \n",
    "- Easier.  \n"
   ]
  },
  {
   "cell_type": "code",
   "execution_count": 45,
   "metadata": {},
   "outputs": [
    {
     "data": {
      "text/plain": [
       "(48343, 158)"
      ]
     },
     "execution_count": 45,
     "metadata": {},
     "output_type": "execute_result"
    }
   ],
   "source": [
    "df = df.dropna(subset=['TD9636_STAGE'])\n",
    "df.shape"
   ]
  },
  {
   "cell_type": "markdown",
   "metadata": {},
   "source": [
    "Now we can continue cleaning our data, because we still have a lot of columns with missing values that we can considere unusable.\n",
    "By looking through the list og missing percentage, we notice that we have a significant gap of percentages under 43% of missing value.\n",
    "So we chose to fix a threshold around 40%. If a column has more than 40% of missing values, we chose to remove it."
   ]
  },
  {
   "cell_type": "code",
   "execution_count": 46,
   "metadata": {},
   "outputs": [
    {
     "data": {
      "text/plain": [
       "(48343, 25)"
      ]
     },
     "execution_count": 46,
     "metadata": {},
     "output_type": "execute_result"
    }
   ],
   "source": [
    "threshold=40\n",
    "#we recalculate the percentages\n",
    "missing_values=df.isna().sum()\n",
    "columns_with_missing = missing_values[missing_values >= 0]\n",
    "total_rows = len(df)\n",
    "missing_percentage = (columns_with_missing / total_rows) * 100\n",
    "\n",
    "#we remove columns with too many missing values\n",
    "cols_to_drop=[col for col in df.columns if missing_percentage[col] > threshold]\n",
    "df= df.drop(columns=cols_to_drop)\n",
    "df.shape"
   ]
  },
  {
   "cell_type": "code",
   "execution_count": 47,
   "metadata": {},
   "outputs": [
    {
     "data": {
      "text/plain": [
       "Index(['SID', 'SEASON', 'NUMBER', 'BASIN', 'SUBBASIN', 'NAME', 'ISO_TIME',\n",
       "       'NATURE', 'LAT', 'LON', 'TRACK_TYPE', 'DIST2LAND', 'LANDFALL', 'IFLAG',\n",
       "       'USA_ATCF_ID', 'USA_LAT', 'USA_LON', 'USA_WIND', 'USA_SSHS',\n",
       "       'TD9636_LAT', 'TD9636_LON', 'TD9636_STAGE', 'TD9636_WIND',\n",
       "       'STORM_SPEED', 'STORM_DIR'],\n",
       "      dtype='object')"
      ]
     },
     "execution_count": 47,
     "metadata": {},
     "output_type": "execute_result"
    }
   ],
   "source": [
    "df.columns"
   ]
  },
  {
   "cell_type": "markdown",
   "metadata": {},
   "source": [
    "Among the remaining columns, we examined their relevance through their description in the ibtracs documentation. \n",
    "Hence,we decided to remove these columns that have useless information:\n",
    "`SID`, `NAME`, `IFLAG`,`TRACK_TYPE`, `NUMBER`"
   ]
  },
  {
   "cell_type": "code",
   "execution_count": 48,
   "metadata": {},
   "outputs": [
    {
     "data": {
      "text/plain": [
       "(48343, 20)"
      ]
     },
     "execution_count": 48,
     "metadata": {},
     "output_type": "execute_result"
    }
   ],
   "source": [
    "df= df.drop(columns=[\"SID\",\"NAME\",\"NUMBER\",\"IFLAG\",\"TRACK_TYPE\"])\n",
    "df.shape"
   ]
  },
  {
   "cell_type": "markdown",
   "metadata": {},
   "source": [
    "Moreover with the Ibtracs technical details we have information on some categories that are in fact equivalent to missing values. So we transform those to make it clear that it stands for NaN."
   ]
  },
  {
   "cell_type": "code",
   "execution_count": 49,
   "metadata": {},
   "outputs": [],
   "source": [
    "df[\"BASIN\"] = df[\"BASIN\"].replace(\"MM\", np.nan)\n",
    "df[\"SUBBASIN\"] = df[\"SUBBASIN\"].replace(\"MM\", np.nan)\n",
    "df[\"NATURE\"] = df[\"NATURE\"].replace(\"NR\", np.nan)\n",
    "df[\"USA_SSHS\"] = df[\"USA_SSHS\"].replace(\"-5\", np.nan)"
   ]
  },
  {
   "cell_type": "code",
   "execution_count": 50,
   "metadata": {},
   "outputs": [
    {
     "name": "stdout",
     "output_type": "stream",
     "text": [
      "              Missing Values Percentage\n",
      "SUBBASIN                      79.850237\n",
      "TD9636_WIND                   17.886767\n",
      "USA_WIND                      16.291914\n",
      "USA_LAT                       14.651552\n",
      "USA_LON                       14.651552\n",
      "USA_ATCF_ID                   13.760007\n",
      "TD9636_LAT                     2.155431\n",
      "TD9636_LON                     2.155431\n",
      "LANDFALL                       0.930848\n",
      "NATURE                         0.268912\n",
      "STORM_SPEED                    0.002069\n",
      "STORM_DIR                      0.002069\n",
      "ISO_TIME                       0.000000\n",
      "BASIN                          0.000000\n",
      "SEASON                         0.000000\n",
      "DIST2LAND                      0.000000\n",
      "LON                            0.000000\n",
      "LAT                            0.000000\n",
      "USA_SSHS                       0.000000\n",
      "TD9636_STAGE                   0.000000\n"
     ]
    }
   ],
   "source": [
    "#we recalculate the percentages\n",
    "missing_values=df.isna().sum()\n",
    "columns_with_missing = missing_values[missing_values >= 0]\n",
    "total_rows = len(df)\n",
    "missing_percentage = (columns_with_missing / total_rows) * 100\n",
    "\n",
    "print(missing_percentage.sort_values(ascending=False).to_frame(name=\"Missing Values Percentage\"))\n"
   ]
  },
  {
   "cell_type": "code",
   "execution_count": 51,
   "metadata": {},
   "outputs": [
    {
     "data": {
      "text/plain": [
       "(48343, 19)"
      ]
     },
     "execution_count": 51,
     "metadata": {},
     "output_type": "execute_result"
    }
   ],
   "source": [
    "# Now we see that \"SUBBASIN\" has in fact many missing values, we remove this feature\n",
    "df = df.drop(columns=[\"SUBBASIN\"])\n",
    "df.shape"
   ]
  },
  {
   "cell_type": "markdown",
   "metadata": {},
   "source": [
    "We look for any columns with a null variance, that is to say, with one unique value.If this is the case, we canremove it since it doesn't add information"
   ]
  },
  {
   "cell_type": "code",
   "execution_count": 52,
   "metadata": {},
   "outputs": [
    {
     "data": {
      "text/plain": [
       "SEASON             10\n",
       "BASIN               5\n",
       "ISO_TIME        24417\n",
       "NATURE              4\n",
       "LAT               862\n",
       "LON              2605\n",
       "DIST2LAND        3034\n",
       "LANDFALL         3012\n",
       "USA_ATCF_ID       772\n",
       "USA_LAT           804\n",
       "USA_LON          2356\n",
       "USA_WIND          112\n",
       "USA_SSHS           10\n",
       "TD9636_LAT        836\n",
       "TD9636_LON       2374\n",
       "TD9636_STAGE        7\n",
       "TD9636_WIND       140\n",
       "STORM_SPEED        66\n",
       "STORM_DIR          73\n",
       "dtype: int64"
      ]
     },
     "execution_count": 52,
     "metadata": {},
     "output_type": "execute_result"
    }
   ],
   "source": [
    "unique_counts = df.nunique()\n",
    "unique_counts"
   ]
  },
  {
   "cell_type": "markdown",
   "metadata": {},
   "source": [
    "Now we are going to look for correlations(between features, and with the target) to continue our data cleaning."
   ]
  },
  {
   "cell_type": "code",
   "execution_count": 53,
   "metadata": {},
   "outputs": [
    {
     "data": {
      "text/plain": [
       "['BASIN', 'ISO_TIME', 'NATURE', 'USA_ATCF_ID']"
      ]
     },
     "execution_count": 53,
     "metadata": {},
     "output_type": "execute_result"
    }
   ],
   "source": [
    "# to work on correlations, we start by identifying categorical columns\n",
    "num_cols = df.select_dtypes(include=['number']).columns.tolist()\n",
    "cat_cols = df.select_dtypes(exclude=['number']).columns.tolist()\n",
    "cat_cols"
   ]
  },
  {
   "cell_type": "code",
   "execution_count": 54,
   "metadata": {},
   "outputs": [
    {
     "data": {
      "text/plain": [
       "['SEASON',\n",
       " 'LAT',\n",
       " 'LON',\n",
       " 'DIST2LAND',\n",
       " 'LANDFALL',\n",
       " 'USA_LAT',\n",
       " 'USA_LON',\n",
       " 'USA_WIND',\n",
       " 'USA_SSHS',\n",
       " 'TD9636_LAT',\n",
       " 'TD9636_LON',\n",
       " 'TD9636_STAGE',\n",
       " 'TD9636_WIND',\n",
       " 'STORM_SPEED',\n",
       " 'STORM_DIR']"
      ]
     },
     "execution_count": 54,
     "metadata": {},
     "output_type": "execute_result"
    }
   ],
   "source": [
    "num_cols"
   ]
  },
  {
   "cell_type": "code",
   "execution_count": 55,
   "metadata": {},
   "outputs": [
    {
     "data": {
      "text/html": [
       "<div>\n",
       "<style scoped>\n",
       "    .dataframe tbody tr th:only-of-type {\n",
       "        vertical-align: middle;\n",
       "    }\n",
       "\n",
       "    .dataframe tbody tr th {\n",
       "        vertical-align: top;\n",
       "    }\n",
       "\n",
       "    .dataframe thead th {\n",
       "        text-align: right;\n",
       "    }\n",
       "</style>\n",
       "<table border=\"1\" class=\"dataframe\">\n",
       "  <thead>\n",
       "    <tr style=\"text-align: right;\">\n",
       "      <th></th>\n",
       "      <th>NATURE</th>\n",
       "      <th>LANDFALL</th>\n",
       "      <th>USA_ATCF_ID</th>\n",
       "      <th>USA_LAT</th>\n",
       "      <th>USA_LON</th>\n",
       "      <th>USA_WIND</th>\n",
       "      <th>TD9636_LAT</th>\n",
       "      <th>TD9636_LON</th>\n",
       "      <th>TD9636_WIND</th>\n",
       "      <th>STORM_SPEED</th>\n",
       "      <th>STORM_DIR</th>\n",
       "    </tr>\n",
       "  </thead>\n",
       "  <tbody>\n",
       "    <tr>\n",
       "      <th>0</th>\n",
       "      <td>TS</td>\n",
       "      <td>647.0</td>\n",
       "      <td>SH051980</td>\n",
       "      <td>-12.5</td>\n",
       "      <td>172.5</td>\n",
       "      <td>25.0</td>\n",
       "      <td>-12.5</td>\n",
       "      <td>172.5</td>\n",
       "      <td>25.0</td>\n",
       "      <td>6.0</td>\n",
       "      <td>350.0</td>\n",
       "    </tr>\n",
       "    <tr>\n",
       "      <th>1</th>\n",
       "      <td>TS</td>\n",
       "      <td>653.0</td>\n",
       "      <td>SH051980</td>\n",
       "      <td>-12.2</td>\n",
       "      <td>172.4</td>\n",
       "      <td>25.0</td>\n",
       "      <td>-12.2</td>\n",
       "      <td>172.5</td>\n",
       "      <td>NaN</td>\n",
       "      <td>6.0</td>\n",
       "      <td>350.0</td>\n",
       "    </tr>\n",
       "  </tbody>\n",
       "</table>\n",
       "</div>"
      ],
      "text/plain": [
       "  NATURE  LANDFALL USA_ATCF_ID  USA_LAT  USA_LON  USA_WIND  TD9636_LAT  \\\n",
       "0     TS     647.0    SH051980    -12.5    172.5      25.0       -12.5   \n",
       "1     TS     653.0    SH051980    -12.2    172.4      25.0       -12.2   \n",
       "\n",
       "   TD9636_LON  TD9636_WIND  STORM_SPEED  STORM_DIR  \n",
       "0       172.5         25.0          6.0      350.0  \n",
       "1       172.5          NaN          6.0      350.0  "
      ]
     },
     "execution_count": 55,
     "metadata": {},
     "output_type": "execute_result"
    }
   ],
   "source": [
    "#we create a dataframe with the metrics we want to study\n",
    "missing_values=df.isna().sum()\n",
    "columns_with_missing = missing_values[missing_values > 0]\n",
    "df_NaN=df[columns_with_missing.index]\n",
    "df_NaN.head(2)"
   ]
  },
  {
   "cell_type": "code",
   "execution_count": 56,
   "metadata": {},
   "outputs": [
    {
     "data": {
      "text/plain": [
       "NATURE          130\n",
       "LANDFALL        450\n",
       "USA_ATCF_ID    6652\n",
       "USA_LAT        7083\n",
       "USA_LON        7083\n",
       "USA_WIND       7876\n",
       "TD9636_LAT     1042\n",
       "TD9636_LON     1042\n",
       "TD9636_WIND    8647\n",
       "STORM_SPEED       1\n",
       "STORM_DIR         1\n",
       "dtype: int64"
      ]
     },
     "execution_count": 56,
     "metadata": {},
     "output_type": "execute_result"
    }
   ],
   "source": [
    "columns_with_missing"
   ]
  },
  {
   "cell_type": "code",
   "execution_count": 57,
   "metadata": {},
   "outputs": [],
   "source": [
    "df_le=df_NaN.copy()"
   ]
  },
  {
   "cell_type": "code",
   "execution_count": 64,
   "metadata": {},
   "outputs": [
    {
     "data": {
      "image/png": "[encoded data removed]",
      "text/plain": [
       "<Figure size 640x480 with 2 Axes>"
      ]
     },
     "metadata": {},
     "output_type": "display_data"
    }
   ],
   "source": [
    "from sklearn.preprocessing import LabelEncoder\n",
    "\n",
    "#we want to encode \"NATURE\" and \"USA_ATCF_ID\", that have missing values and are categorical\n",
    "for col in [\"NATURE\",\"USA_ATCF_ID\"]:\n",
    "    le = LabelEncoder()\n",
    "    df_le[col] = le.fit_transform(df_le[col])\n",
    "correlation_matrix = df_le.corr()\n",
    "\n",
    "sns.heatmap(correlation_matrix, annot=True, fmt=\".2f\", cmap=\"coolwarm\")\n",
    "plt.title(\"Correlation Matrix of columns with missing values\")\n",
    "plt.show()"
   ]
  },
  {
   "cell_type": "markdown",
   "metadata": {},
   "source": [
    "When two features are too correlated, we keep only one, refering the documentation to keep the more relevant."
   ]
  },
  {
   "cell_type": "code",
   "execution_count": 65,
   "metadata": {},
   "outputs": [
    {
     "data": {
      "text/plain": [
       "(48343, 8)"
      ]
     },
     "execution_count": 65,
     "metadata": {},
     "output_type": "execute_result"
    }
   ],
   "source": [
    "df_le= df_le.drop(columns=[\"TD9636_WIND\", \"USA_LON\",\"USA_LAT\"])\n",
    "df_le.shape"
   ]
  },
  {
   "attachments": {
    "carte.png": {
     "image/png": "[encoded data removed]"
    }
   },
   "cell_type": "markdown",
   "metadata": {},
   "source": [
    "![carte.png](attachment:carte.png)"
   ]
  }
 ],
 "metadata": {
  "kernelspec": {
   "display_name": "Python 3",
   "language": "python",
   "name": "python3"
  },
  "language_info": {
   "codemirror_mode": {
    "name": "ipython",
    "version": 3
   },
   "file_extension": ".py",
   "mimetype": "text/x-python",
   "name": "python",
   "nbconvert_exporter": "python",
   "pygments_lexer": "ipython3",
   "version": "3.13.1"
  }
 },
 "nbformat": 4,
 "nbformat_minor": 2
}
